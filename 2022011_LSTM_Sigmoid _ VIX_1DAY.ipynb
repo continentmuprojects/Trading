{
 "cells": [
  {
   "cell_type": "markdown",
   "metadata": {},
   "source": [
    "# ONE DAY PREDICTION"
   ]
  },
  {
   "cell_type": "code",
   "execution_count": 83,
   "metadata": {},
   "outputs": [],
   "source": [
    "#pip install yfinance"
   ]
  },
  {
   "cell_type": "code",
   "execution_count": 84,
   "metadata": {},
   "outputs": [],
   "source": [
    "#See the yahoo finance ticker for your stock symbol\n",
    "\n",
    "#stock_symbol = '^GSPC'\n",
    "stock_symbol = '^VIX'\n",
    "\n",
    "#stock_symbol = 'CL=F'\n",
    "#stock_symbol = 'NG=F'\n",
    "\n",
    "#stock_symbol = 'GC=F'\n",
    "#stock_symbol = 'SI=F'\n",
    "#stock_symbol = 'HG=F'\n",
    "\n",
    "#stock_symbol = 'EURUSD=X'\n",
    "#stock_symbol = 'EURCHF=X'\n",
    "\n",
    "Object_study = 'VIX'"
   ]
  },
  {
   "cell_type": "code",
   "execution_count": 85,
   "metadata": {},
   "outputs": [],
   "source": [
    "#pip install numpy==1.19.5"
   ]
  },
  {
   "cell_type": "code",
   "execution_count": 86,
   "metadata": {},
   "outputs": [],
   "source": [
    "#pip install plotly==5.3.1"
   ]
  },
  {
   "cell_type": "code",
   "execution_count": 87,
   "metadata": {},
   "outputs": [],
   "source": [
    "#pip install keras"
   ]
  },
  {
   "cell_type": "code",
   "execution_count": 88,
   "metadata": {},
   "outputs": [],
   "source": [
    "import math\n",
    "import numpy as np\n",
    "import pandas as pd\n",
    "import matplotlib.pyplot as plt\n",
    "#from plotly.graph_objs import graph_objs\n",
    "%matplotlib inline\n",
    "from matplotlib.pylab import rcParams\n",
    "rcParams['figure.figsize'] = 10,6\n",
    "plt.style.use('fivethirtyeight')"
   ]
  },
  {
   "cell_type": "code",
   "execution_count": 89,
   "metadata": {},
   "outputs": [],
   "source": [
    "import keras"
   ]
  },
  {
   "cell_type": "code",
   "execution_count": 90,
   "metadata": {},
   "outputs": [],
   "source": [
    "import yfinance as yf"
   ]
  },
  {
   "cell_type": "code",
   "execution_count": 91,
   "metadata": {},
   "outputs": [],
   "source": [
    "import plotly.graph_objs as go"
   ]
  },
  {
   "cell_type": "code",
   "execution_count": 92,
   "metadata": {},
   "outputs": [],
   "source": [
    "#Set the start and end date for the analysis\n",
    "#start = datetime(2016, 12, 27)\n",
    "#end = datetime(2021, 12, 28)\n",
    "#origdata = yf.download(tickers=stock_symbol, start=start, end=end)"
   ]
  },
  {
   "cell_type": "code",
   "execution_count": 93,
   "metadata": {},
   "outputs": [
    {
     "name": "stdout",
     "output_type": "stream",
     "text": [
      "[*********************100%***********************]  1 of 1 completed\n"
     ]
    },
    {
     "data": {
      "text/html": [
       "<div>\n",
       "<style scoped>\n",
       "    .dataframe tbody tr th:only-of-type {\n",
       "        vertical-align: middle;\n",
       "    }\n",
       "\n",
       "    .dataframe tbody tr th {\n",
       "        vertical-align: top;\n",
       "    }\n",
       "\n",
       "    .dataframe thead th {\n",
       "        text-align: right;\n",
       "    }\n",
       "</style>\n",
       "<table border=\"1\" class=\"dataframe\">\n",
       "  <thead>\n",
       "    <tr style=\"text-align: right;\">\n",
       "      <th></th>\n",
       "      <th>Open</th>\n",
       "      <th>High</th>\n",
       "      <th>Low</th>\n",
       "      <th>Close</th>\n",
       "      <th>Adj Close</th>\n",
       "      <th>Volume</th>\n",
       "    </tr>\n",
       "    <tr>\n",
       "      <th>Date</th>\n",
       "      <th></th>\n",
       "      <th></th>\n",
       "      <th></th>\n",
       "      <th></th>\n",
       "      <th></th>\n",
       "      <th></th>\n",
       "    </tr>\n",
       "  </thead>\n",
       "  <tbody>\n",
       "    <tr>\n",
       "      <th>2017-01-17</th>\n",
       "      <td>12.200000</td>\n",
       "      <td>12.750000</td>\n",
       "      <td>11.790000</td>\n",
       "      <td>11.870000</td>\n",
       "      <td>11.870000</td>\n",
       "      <td>0</td>\n",
       "    </tr>\n",
       "    <tr>\n",
       "      <th>2017-01-18</th>\n",
       "      <td>11.790000</td>\n",
       "      <td>12.810000</td>\n",
       "      <td>11.690000</td>\n",
       "      <td>12.480000</td>\n",
       "      <td>12.480000</td>\n",
       "      <td>0</td>\n",
       "    </tr>\n",
       "    <tr>\n",
       "      <th>2017-01-19</th>\n",
       "      <td>12.580000</td>\n",
       "      <td>13.280000</td>\n",
       "      <td>12.170000</td>\n",
       "      <td>12.780000</td>\n",
       "      <td>12.780000</td>\n",
       "      <td>0</td>\n",
       "    </tr>\n",
       "    <tr>\n",
       "      <th>2017-01-20</th>\n",
       "      <td>12.580000</td>\n",
       "      <td>12.590000</td>\n",
       "      <td>11.530000</td>\n",
       "      <td>11.540000</td>\n",
       "      <td>11.540000</td>\n",
       "      <td>0</td>\n",
       "    </tr>\n",
       "    <tr>\n",
       "      <th>2017-01-23</th>\n",
       "      <td>12.300000</td>\n",
       "      <td>12.620000</td>\n",
       "      <td>11.590000</td>\n",
       "      <td>11.770000</td>\n",
       "      <td>11.770000</td>\n",
       "      <td>0</td>\n",
       "    </tr>\n",
       "    <tr>\n",
       "      <th>...</th>\n",
       "      <td>...</td>\n",
       "      <td>...</td>\n",
       "      <td>...</td>\n",
       "      <td>...</td>\n",
       "      <td>...</td>\n",
       "      <td>...</td>\n",
       "    </tr>\n",
       "    <tr>\n",
       "      <th>2022-01-10</th>\n",
       "      <td>19.580000</td>\n",
       "      <td>23.330000</td>\n",
       "      <td>19.290001</td>\n",
       "      <td>19.400000</td>\n",
       "      <td>19.400000</td>\n",
       "      <td>0</td>\n",
       "    </tr>\n",
       "    <tr>\n",
       "      <th>2022-01-11</th>\n",
       "      <td>19.620001</td>\n",
       "      <td>21.000000</td>\n",
       "      <td>18.200001</td>\n",
       "      <td>18.410000</td>\n",
       "      <td>18.410000</td>\n",
       "      <td>0</td>\n",
       "    </tr>\n",
       "    <tr>\n",
       "      <th>2022-01-12</th>\n",
       "      <td>18.170000</td>\n",
       "      <td>18.690001</td>\n",
       "      <td>17.360001</td>\n",
       "      <td>17.620001</td>\n",
       "      <td>17.620001</td>\n",
       "      <td>0</td>\n",
       "    </tr>\n",
       "    <tr>\n",
       "      <th>2022-01-13</th>\n",
       "      <td>18.059999</td>\n",
       "      <td>20.610001</td>\n",
       "      <td>17.450001</td>\n",
       "      <td>20.309999</td>\n",
       "      <td>20.309999</td>\n",
       "      <td>0</td>\n",
       "    </tr>\n",
       "    <tr>\n",
       "      <th>2022-01-14</th>\n",
       "      <td>20.110001</td>\n",
       "      <td>22.070000</td>\n",
       "      <td>19.700001</td>\n",
       "      <td>21.250000</td>\n",
       "      <td>21.250000</td>\n",
       "      <td>0</td>\n",
       "    </tr>\n",
       "  </tbody>\n",
       "</table>\n",
       "<p>1260 rows × 6 columns</p>\n",
       "</div>"
      ],
      "text/plain": [
       "                 Open       High        Low      Close  Adj Close  Volume\n",
       "Date                                                                     \n",
       "2017-01-17  12.200000  12.750000  11.790000  11.870000  11.870000       0\n",
       "2017-01-18  11.790000  12.810000  11.690000  12.480000  12.480000       0\n",
       "2017-01-19  12.580000  13.280000  12.170000  12.780000  12.780000       0\n",
       "2017-01-20  12.580000  12.590000  11.530000  11.540000  11.540000       0\n",
       "2017-01-23  12.300000  12.620000  11.590000  11.770000  11.770000       0\n",
       "...               ...        ...        ...        ...        ...     ...\n",
       "2022-01-10  19.580000  23.330000  19.290001  19.400000  19.400000       0\n",
       "2022-01-11  19.620001  21.000000  18.200001  18.410000  18.410000       0\n",
       "2022-01-12  18.170000  18.690001  17.360001  17.620001  17.620001       0\n",
       "2022-01-13  18.059999  20.610001  17.450001  20.309999  20.309999       0\n",
       "2022-01-14  20.110001  22.070000  19.700001  21.250000  21.250000       0\n",
       "\n",
       "[1260 rows x 6 columns]"
      ]
     },
     "execution_count": 93,
     "metadata": {},
     "output_type": "execute_result"
    }
   ],
   "source": [
    "origdata = yf.download(tickers=stock_symbol, period='5y', interval='1d')\n",
    "origdata"
   ]
  },
  {
   "cell_type": "code",
   "execution_count": 94,
   "metadata": {},
   "outputs": [
    {
     "data": {
      "text/plain": [
       "Text(0, 0.5, 'Close Price ($)')"
      ]
     },
     "execution_count": 94,
     "metadata": {},
     "output_type": "execute_result"
    },
    {
     "data": {
      "image/png": "[encoded data removed]",
      "text/plain": [
       "<Figure size 1152x576 with 1 Axes>"
      ]
     },
     "metadata": {},
     "output_type": "display_data"
    }
   ],
   "source": [
    "plt.figure(figsize=(16,8))\n",
    "plt.title('Close Price History')\n",
    "plt.plot(origdata['Close'])\n",
    "plt.xlabel('Date', fontsize=18)\n",
    "plt.ylabel('Close Price ($)', fontsize=18)"
   ]
  },
  {
   "cell_type": "code",
   "execution_count": 95,
   "metadata": {},
   "outputs": [
    {
     "data": {
      "text/html": [
       "<div>\n",
       "<style scoped>\n",
       "    .dataframe tbody tr th:only-of-type {\n",
       "        vertical-align: middle;\n",
       "    }\n",
       "\n",
       "    .dataframe tbody tr th {\n",
       "        vertical-align: top;\n",
       "    }\n",
       "\n",
       "    .dataframe thead th {\n",
       "        text-align: right;\n",
       "    }\n",
       "</style>\n",
       "<table border=\"1\" class=\"dataframe\">\n",
       "  <thead>\n",
       "    <tr style=\"text-align: right;\">\n",
       "      <th></th>\n",
       "      <th>Close</th>\n",
       "    </tr>\n",
       "    <tr>\n",
       "      <th>Date</th>\n",
       "      <th></th>\n",
       "    </tr>\n",
       "  </thead>\n",
       "  <tbody>\n",
       "    <tr>\n",
       "      <th>2017-01-17</th>\n",
       "      <td>11.870000</td>\n",
       "    </tr>\n",
       "    <tr>\n",
       "      <th>2017-01-18</th>\n",
       "      <td>12.480000</td>\n",
       "    </tr>\n",
       "    <tr>\n",
       "      <th>2017-01-19</th>\n",
       "      <td>12.780000</td>\n",
       "    </tr>\n",
       "    <tr>\n",
       "      <th>2017-01-20</th>\n",
       "      <td>11.540000</td>\n",
       "    </tr>\n",
       "    <tr>\n",
       "      <th>2017-01-23</th>\n",
       "      <td>11.770000</td>\n",
       "    </tr>\n",
       "    <tr>\n",
       "      <th>...</th>\n",
       "      <td>...</td>\n",
       "    </tr>\n",
       "    <tr>\n",
       "      <th>2022-01-10</th>\n",
       "      <td>19.400000</td>\n",
       "    </tr>\n",
       "    <tr>\n",
       "      <th>2022-01-11</th>\n",
       "      <td>18.410000</td>\n",
       "    </tr>\n",
       "    <tr>\n",
       "      <th>2022-01-12</th>\n",
       "      <td>17.620001</td>\n",
       "    </tr>\n",
       "    <tr>\n",
       "      <th>2022-01-13</th>\n",
       "      <td>20.309999</td>\n",
       "    </tr>\n",
       "    <tr>\n",
       "      <th>2022-01-14</th>\n",
       "      <td>21.250000</td>\n",
       "    </tr>\n",
       "  </tbody>\n",
       "</table>\n",
       "<p>1260 rows × 1 columns</p>\n",
       "</div>"
      ],
      "text/plain": [
       "                Close\n",
       "Date                 \n",
       "2017-01-17  11.870000\n",
       "2017-01-18  12.480000\n",
       "2017-01-19  12.780000\n",
       "2017-01-20  11.540000\n",
       "2017-01-23  11.770000\n",
       "...               ...\n",
       "2022-01-10  19.400000\n",
       "2022-01-11  18.410000\n",
       "2022-01-12  17.620001\n",
       "2022-01-13  20.309999\n",
       "2022-01-14  21.250000\n",
       "\n",
       "[1260 rows x 1 columns]"
      ]
     },
     "execution_count": 95,
     "metadata": {},
     "output_type": "execute_result"
    }
   ],
   "source": [
    "origdata = origdata.filter(['Close'])\n",
    "origdata"
   ]
  },
  {
   "cell_type": "code",
   "execution_count": 96,
   "metadata": {},
   "outputs": [],
   "source": [
    "#df['Date'] = df['Date'].dt.strftime('%Y-%m-%d')"
   ]
  },
  {
   "cell_type": "code",
   "execution_count": 97,
   "metadata": {},
   "outputs": [],
   "source": [
    "# Create isocalendar\n",
    "closingdata = origdata\n",
    "closingdata[\"week\"] = closingdata.index.isocalendar().week\n",
    "\n",
    "# Completing Time Series\n",
    "idx = pd.date_range(closingdata.index[0], closingdata.index[-1]) #create dates for completed time series\n",
    "completedata =closingdata.reindex(idx, fill_value= float(\"NaN\")) #complete missing dates with NAN\n",
    "completedata = completedata.fillna(method='ffill') #fill NAN with last observation (e.g., Value for Friday on Weekend)\n"
   ]
  },
  {
   "cell_type": "code",
   "execution_count": 98,
   "metadata": {},
   "outputs": [
    {
     "data": {
      "text/html": [
       "<div>\n",
       "<style scoped>\n",
       "    .dataframe tbody tr th:only-of-type {\n",
       "        vertical-align: middle;\n",
       "    }\n",
       "\n",
       "    .dataframe tbody tr th {\n",
       "        vertical-align: top;\n",
       "    }\n",
       "\n",
       "    .dataframe thead th {\n",
       "        text-align: right;\n",
       "    }\n",
       "</style>\n",
       "<table border=\"1\" class=\"dataframe\">\n",
       "  <thead>\n",
       "    <tr style=\"text-align: right;\">\n",
       "      <th></th>\n",
       "      <th>Close</th>\n",
       "    </tr>\n",
       "  </thead>\n",
       "  <tbody>\n",
       "    <tr>\n",
       "      <th>2017-01-17</th>\n",
       "      <td>11.870000</td>\n",
       "    </tr>\n",
       "    <tr>\n",
       "      <th>2017-01-18</th>\n",
       "      <td>12.480000</td>\n",
       "    </tr>\n",
       "    <tr>\n",
       "      <th>2017-01-19</th>\n",
       "      <td>12.780000</td>\n",
       "    </tr>\n",
       "    <tr>\n",
       "      <th>2017-01-20</th>\n",
       "      <td>11.540000</td>\n",
       "    </tr>\n",
       "    <tr>\n",
       "      <th>2017-01-21</th>\n",
       "      <td>11.540000</td>\n",
       "    </tr>\n",
       "    <tr>\n",
       "      <th>...</th>\n",
       "      <td>...</td>\n",
       "    </tr>\n",
       "    <tr>\n",
       "      <th>2022-01-10</th>\n",
       "      <td>19.400000</td>\n",
       "    </tr>\n",
       "    <tr>\n",
       "      <th>2022-01-11</th>\n",
       "      <td>18.410000</td>\n",
       "    </tr>\n",
       "    <tr>\n",
       "      <th>2022-01-12</th>\n",
       "      <td>17.620001</td>\n",
       "    </tr>\n",
       "    <tr>\n",
       "      <th>2022-01-13</th>\n",
       "      <td>20.309999</td>\n",
       "    </tr>\n",
       "    <tr>\n",
       "      <th>2022-01-14</th>\n",
       "      <td>21.250000</td>\n",
       "    </tr>\n",
       "  </tbody>\n",
       "</table>\n",
       "<p>1824 rows × 1 columns</p>\n",
       "</div>"
      ],
      "text/plain": [
       "                Close\n",
       "2017-01-17  11.870000\n",
       "2017-01-18  12.480000\n",
       "2017-01-19  12.780000\n",
       "2017-01-20  11.540000\n",
       "2017-01-21  11.540000\n",
       "...               ...\n",
       "2022-01-10  19.400000\n",
       "2022-01-11  18.410000\n",
       "2022-01-12  17.620001\n",
       "2022-01-13  20.309999\n",
       "2022-01-14  21.250000\n",
       "\n",
       "[1824 rows x 1 columns]"
      ]
     },
     "execution_count": 98,
     "metadata": {},
     "output_type": "execute_result"
    }
   ],
   "source": [
    "cols_to_keep = [\"Close\"]\n",
    "alldata = completedata.loc[:,cols_to_keep]\n",
    "alldata"
   ]
  },
  {
   "cell_type": "code",
   "execution_count": 99,
   "metadata": {},
   "outputs": [
    {
     "data": {
      "text/plain": [
       "1460"
      ]
     },
     "execution_count": 99,
     "metadata": {},
     "output_type": "execute_result"
    }
   ],
   "source": [
    "dataset = alldata.values\n",
    "training_data_len=math.ceil(len(dataset)*.8)\n",
    "training_data_len"
   ]
  },
  {
   "cell_type": "code",
   "execution_count": 100,
   "metadata": {},
   "outputs": [
    {
     "data": {
      "text/plain": [
       "(1824, 1)"
      ]
     },
     "execution_count": 100,
     "metadata": {},
     "output_type": "execute_result"
    }
   ],
   "source": [
    "dataset.shape"
   ]
  },
  {
   "cell_type": "markdown",
   "metadata": {},
   "source": [
    "# Scaling data"
   ]
  },
  {
   "cell_type": "code",
   "execution_count": 101,
   "metadata": {},
   "outputs": [],
   "source": [
    "\n",
    "from sklearn.preprocessing import MinMaxScaler\n",
    "\n",
    "scaler = MinMaxScaler(feature_range=(0,1))\n"
   ]
  },
  {
   "cell_type": "code",
   "execution_count": 102,
   "metadata": {},
   "outputs": [
    {
     "data": {
      "text/plain": [
       "array([[0.0371176 ],\n",
       "       [0.04541127],\n",
       "       [0.04949013],\n",
       "       ...,\n",
       "       [0.11529572],\n",
       "       [0.15186946],\n",
       "       [0.16464989]])"
      ]
     },
     "execution_count": 102,
     "metadata": {},
     "output_type": "execute_result"
    }
   ],
   "source": [
    "scaled_dataset = scaler.fit_transform(dataset)\n",
    "scaled_dataset"
   ]
  },
  {
   "cell_type": "code",
   "execution_count": 103,
   "metadata": {},
   "outputs": [
    {
     "data": {
      "text/plain": [
       "(1824, 1)"
      ]
     },
     "execution_count": 103,
     "metadata": {},
     "output_type": "execute_result"
    }
   ],
   "source": [
    "scaled_dataset.shape"
   ]
  },
  {
   "cell_type": "markdown",
   "metadata": {},
   "source": [
    "# create training dataset\n",
    "# x_train (1401,60,1) and y_train (1401,)\n",
    "# TO TRAIN THE MODEL"
   ]
  },
  {
   "cell_type": "code",
   "execution_count": 104,
   "metadata": {},
   "outputs": [
    {
     "data": {
      "text/plain": [
       "array([[0.0371176 ],\n",
       "       [0.04541127],\n",
       "       [0.04949013],\n",
       "       ...,\n",
       "       [0.17770222],\n",
       "       [0.19184227],\n",
       "       [0.20666213]])"
      ]
     },
     "execution_count": 104,
     "metadata": {},
     "output_type": "execute_result"
    }
   ],
   "source": [
    "#Create the training data set and the scaled training data set\n",
    "data_trainingscaled=scaled_dataset[0:training_data_len,:]#data_trainingscaled REPLACED train_data\n",
    "data_trainingscaled"
   ]
  },
  {
   "cell_type": "code",
   "execution_count": 105,
   "metadata": {},
   "outputs": [
    {
     "data": {
      "text/plain": [
       "(1460, 1)"
      ]
     },
     "execution_count": 105,
     "metadata": {},
     "output_type": "execute_result"
    }
   ],
   "source": [
    "data_trainingscaled.shape"
   ]
  },
  {
   "cell_type": "code",
   "execution_count": 106,
   "metadata": {},
   "outputs": [],
   "source": [
    "#split the data into x_train and y_train data sets\n",
    "x_train = []\n",
    "y_train = []"
   ]
  },
  {
   "cell_type": "code",
   "execution_count": 107,
   "metadata": {},
   "outputs": [
    {
     "data": {
      "text/plain": [
       "1460"
      ]
     },
     "execution_count": 107,
     "metadata": {},
     "output_type": "execute_result"
    }
   ],
   "source": [
    "len(data_trainingscaled)"
   ]
  },
  {
   "cell_type": "code",
   "execution_count": 108,
   "metadata": {},
   "outputs": [],
   "source": [
    "#set training for 60 days, look back is the timeframe for the LSTM model \n",
    "look_back=60\n",
    "\n",
    "for i in range (look_back, len(data_trainingscaled)):\n",
    "    x_train.append(data_trainingscaled[i-look_back:i,0])\n",
    "    y_train.append(data_trainingscaled[i,0])\n",
    "  "
   ]
  },
  {
   "cell_type": "code",
   "execution_count": 109,
   "metadata": {},
   "outputs": [],
   "source": [
    "  if i<=61:\n",
    "        print(x_train)\n",
    "        print(y_train)\n",
    "        print()"
   ]
  },
  {
   "cell_type": "code",
   "execution_count": 110,
   "metadata": {},
   "outputs": [],
   "source": [
    "#convert x_train and y_train to numpy arrays\n",
    "x_train,y_train = np.array(x_train), np.array(y_train)\n"
   ]
  },
  {
   "cell_type": "code",
   "execution_count": 111,
   "metadata": {},
   "outputs": [
    {
     "name": "stdout",
     "output_type": "stream",
     "text": [
      "(1400, 60)\n",
      "(1400,)\n"
     ]
    }
   ],
   "source": [
    "print(x_train.shape)\n",
    "print(y_train.shape)"
   ]
  },
  {
   "cell_type": "code",
   "execution_count": 112,
   "metadata": {},
   "outputs": [
    {
     "data": {
      "text/plain": [
       "array([[0.0371176 , 0.04541127, 0.04949013, ..., 0.03385452, 0.02814411,\n",
       "        0.02909584],\n",
       "       [0.04541127, 0.04949013, 0.03263086, ..., 0.02814411, 0.02909584,\n",
       "        0.02909584],\n",
       "       [0.04949013, 0.03263086, 0.03263086, ..., 0.02909584, 0.02909584,\n",
       "        0.02909584],\n",
       "       ...,\n",
       "       [0.18980285, 0.18980285, 0.18096533, ..., 0.1688647 , 0.20312711,\n",
       "        0.19292997],\n",
       "       [0.18980285, 0.18096533, 0.18450032, ..., 0.20312711, 0.19292997,\n",
       "        0.17770222],\n",
       "       [0.18096533, 0.18450032, 0.19986403, ..., 0.19292997, 0.17770222,\n",
       "        0.19184227]])"
      ]
     },
     "execution_count": 112,
     "metadata": {},
     "output_type": "execute_result"
    }
   ],
   "source": [
    "x_train"
   ]
  },
  {
   "cell_type": "code",
   "execution_count": 113,
   "metadata": {},
   "outputs": [
    {
     "data": {
      "text/plain": [
       "(1400, 60, 1)"
      ]
     },
     "execution_count": 113,
     "metadata": {},
     "output_type": "execute_result"
    }
   ],
   "source": [
    "#reshape the data :\n",
    "#Since the LSTM model takes input a 3 Dimensional array, \n",
    "#the 2 Dimension array was expanded to 3 Dimensions\n",
    "x_train=np.reshape(x_train,(x_train.shape[0], x_train.shape[1],1))\n",
    "x_train.shape"
   ]
  },
  {
   "cell_type": "code",
   "execution_count": 114,
   "metadata": {},
   "outputs": [
    {
     "data": {
      "text/plain": [
       "array([[[0.0371176 ],\n",
       "        [0.04541127],\n",
       "        [0.04949013],\n",
       "        ...,\n",
       "        [0.03385452],\n",
       "        [0.02814411],\n",
       "        [0.02909584]],\n",
       "\n",
       "       [[0.04541127],\n",
       "        [0.04949013],\n",
       "        [0.03263086],\n",
       "        ...,\n",
       "        [0.02814411],\n",
       "        [0.02909584],\n",
       "        [0.02909584]],\n",
       "\n",
       "       [[0.04949013],\n",
       "        [0.03263086],\n",
       "        [0.03263086],\n",
       "        ...,\n",
       "        [0.02909584],\n",
       "        [0.02909584],\n",
       "        [0.02909584]],\n",
       "\n",
       "       ...,\n",
       "\n",
       "       [[0.18980285],\n",
       "        [0.18980285],\n",
       "        [0.18096533],\n",
       "        ...,\n",
       "        [0.1688647 ],\n",
       "        [0.20312711],\n",
       "        [0.19292997]],\n",
       "\n",
       "       [[0.18980285],\n",
       "        [0.18096533],\n",
       "        [0.18450032],\n",
       "        ...,\n",
       "        [0.20312711],\n",
       "        [0.19292997],\n",
       "        [0.17770222]],\n",
       "\n",
       "       [[0.18096533],\n",
       "        [0.18450032],\n",
       "        [0.19986403],\n",
       "        ...,\n",
       "        [0.19292997],\n",
       "        [0.17770222],\n",
       "        [0.19184227]]])"
      ]
     },
     "execution_count": 114,
     "metadata": {},
     "output_type": "execute_result"
    }
   ],
   "source": [
    "x_train"
   ]
  },
  {
   "cell_type": "code",
   "execution_count": 115,
   "metadata": {},
   "outputs": [
    {
     "data": {
      "text/plain": [
       "array([0.02909584, 0.02909584, 0.02991162, ..., 0.17770222, 0.19184227,\n",
       "       0.20666213])"
      ]
     },
     "execution_count": 115,
     "metadata": {},
     "output_type": "execute_result"
    }
   ],
   "source": [
    "y_train"
   ]
  },
  {
   "cell_type": "markdown",
   "metadata": {},
   "source": [
    "# create the model using LSTM using Sequential function and NN 50-50-25-1\n"
   ]
  },
  {
   "cell_type": "code",
   "execution_count": 116,
   "metadata": {},
   "outputs": [],
   "source": [
    "from keras.models import Sequential\n",
    "from tensorflow.keras.layers import LSTM,Dense,Dropout,Activation, Flatten, Conv2D, MaxPooling2D"
   ]
  },
  {
   "cell_type": "code",
   "execution_count": 117,
   "metadata": {},
   "outputs": [],
   "source": [
    "model = Sequential()"
   ]
  },
  {
   "cell_type": "code",
   "execution_count": 118,
   "metadata": {},
   "outputs": [],
   "source": [
    "#build LSTM model\n",
    "\n",
    "model.add(LSTM(50,activation='sigmoid',return_sequences=True,input_shape=(x_train.shape[1],1)))\n",
    "model.add(LSTM(50,activation='sigmoid',return_sequences=False))\n",
    "model.add(Dense(25))\n",
    "model.add(Dense(1))"
   ]
  },
  {
   "cell_type": "code",
   "execution_count": 119,
   "metadata": {},
   "outputs": [],
   "source": [
    "#model.summary()"
   ]
  },
  {
   "cell_type": "code",
   "execution_count": 120,
   "metadata": {},
   "outputs": [],
   "source": [
    "#Compile the model\n",
    "model.compile(optimizer='adam', loss='mean_squared_error')"
   ]
  },
  {
   "cell_type": "code",
   "execution_count": 121,
   "metadata": {},
   "outputs": [
    {
     "name": "stdout",
     "output_type": "stream",
     "text": [
      "Epoch 1/50\n",
      "44/44 [==============================] - 11s 74ms/step - loss: 0.0252\n",
      "Epoch 2/50\n",
      "44/44 [==============================] - 3s 79ms/step - loss: 0.0166\n",
      "Epoch 3/50\n",
      "44/44 [==============================] - 3s 78ms/step - loss: 0.0173\n",
      "Epoch 4/50\n",
      "44/44 [==============================] - 3s 78ms/step - loss: 0.0160\n",
      "Epoch 5/50\n",
      "44/44 [==============================] - 3s 78ms/step - loss: 0.0180\n",
      "Epoch 6/50\n",
      "44/44 [==============================] - 3s 73ms/step - loss: 0.0126\n",
      "Epoch 7/50\n",
      "44/44 [==============================] - 3s 74ms/step - loss: 0.0118\n",
      "Epoch 8/50\n",
      "44/44 [==============================] - 3s 77ms/step - loss: 0.0046\n",
      "Epoch 9/50\n",
      "44/44 [==============================] - 3s 74ms/step - loss: 0.0023\n",
      "Epoch 10/50\n",
      "44/44 [==============================] - 3s 78ms/step - loss: 0.0018: 1s\n",
      "Epoch 11/50\n",
      "44/44 [==============================] - 3s 77ms/step - loss: 0.0025: \n",
      "Epoch 12/50\n",
      "44/44 [==============================] - 3s 73ms/step - loss: 0.0016\n",
      "Epoch 13/50\n",
      "44/44 [==============================] - 3s 75ms/step - loss: 0.0017\n",
      "Epoch 14/50\n",
      "44/44 [==============================] - 3s 75ms/step - loss: 0.0015\n",
      "Epoch 15/50\n",
      "44/44 [==============================] - 3s 75ms/step - loss: 0.0017\n",
      "Epoch 16/50\n",
      "44/44 [==============================] - 3s 76ms/step - loss: 0.0017\n",
      "Epoch 17/50\n",
      "44/44 [==============================] - 3s 71ms/step - loss: 0.0017\n",
      "Epoch 18/50\n",
      "44/44 [==============================] - 4s 81ms/step - loss: 0.0014\n",
      "Epoch 19/50\n",
      "44/44 [==============================] - 4s 82ms/step - loss: 0.0014\n",
      "Epoch 20/50\n",
      "44/44 [==============================] - 3s 75ms/step - loss: 0.0013\n",
      "Epoch 21/50\n",
      "44/44 [==============================] - 3s 77ms/step - loss: 0.0016\n",
      "Epoch 22/50\n",
      "44/44 [==============================] - 3s 79ms/step - loss: 0.0018\n",
      "Epoch 23/50\n",
      "44/44 [==============================] - 3s 74ms/step - loss: 0.0012\n",
      "Epoch 24/50\n",
      "44/44 [==============================] - 3s 73ms/step - loss: 0.0011\n",
      "Epoch 25/50\n",
      "44/44 [==============================] - 3s 74ms/step - loss: 0.0011\n",
      "Epoch 26/50\n",
      "44/44 [==============================] - 3s 74ms/step - loss: 0.0016\n",
      "Epoch 27/50\n",
      "44/44 [==============================] - 3s 76ms/step - loss: 0.0016\n",
      "Epoch 28/50\n",
      "44/44 [==============================] - 3s 75ms/step - loss: 0.0011\n",
      "Epoch 29/50\n",
      "44/44 [==============================] - 3s 77ms/step - loss: 0.0013\n",
      "Epoch 30/50\n",
      "44/44 [==============================] - 3s 74ms/step - loss: 9.1602e-04\n",
      "Epoch 31/50\n",
      "44/44 [==============================] - 3s 73ms/step - loss: 9.8345e-04\n",
      "Epoch 32/50\n",
      "44/44 [==============================] - 3s 76ms/step - loss: 0.0011\n",
      "Epoch 33/50\n",
      "44/44 [==============================] - 3s 77ms/step - loss: 0.0013\n",
      "Epoch 34/50\n",
      "44/44 [==============================] - 3s 74ms/step - loss: 0.0011\n",
      "Epoch 35/50\n",
      "44/44 [==============================] - 3s 74ms/step - loss: 0.0012\n",
      "Epoch 36/50\n",
      "44/44 [==============================] - 3s 74ms/step - loss: 9.2120e-04\n",
      "Epoch 37/50\n",
      "44/44 [==============================] - 3s 73ms/step - loss: 0.0013\n",
      "Epoch 38/50\n",
      "44/44 [==============================] - 3s 75ms/step - loss: 9.9553e-04\n",
      "Epoch 39/50\n",
      "44/44 [==============================] - 3s 77ms/step - loss: 9.0699e-04\n",
      "Epoch 40/50\n",
      "44/44 [==============================] - 3s 73ms/step - loss: 7.7758e-04\n",
      "Epoch 41/50\n",
      "44/44 [==============================] - 3s 74ms/step - loss: 9.6974e-04\n",
      "Epoch 42/50\n",
      "44/44 [==============================] - 3s 76ms/step - loss: 8.8871e-04\n",
      "Epoch 43/50\n",
      "44/44 [==============================] - 3s 76ms/step - loss: 0.0011\n",
      "Epoch 44/50\n",
      "44/44 [==============================] - 3s 74ms/step - loss: 0.0011\n",
      "Epoch 45/50\n",
      "44/44 [==============================] - 3s 78ms/step - loss: 9.5870e-04\n",
      "Epoch 46/50\n",
      "44/44 [==============================] - 3s 77ms/step - loss: 0.0010\n",
      "Epoch 47/50\n",
      "44/44 [==============================] - 3s 74ms/step - loss: 9.4047e-04: 0s - loss\n",
      "Epoch 48/50\n",
      "44/44 [==============================] - 3s 78ms/step - loss: 7.6833e-04\n",
      "Epoch 49/50\n",
      "44/44 [==============================] - 3s 76ms/step - loss: 0.0012\n",
      "Epoch 50/50\n",
      "44/44 [==============================] - 3s 77ms/step - loss: 7.9401e-04\n"
     ]
    },
    {
     "data": {
      "text/plain": [
       "<tensorflow.python.keras.callbacks.History at 0x2a6965d7c10>"
      ]
     },
     "execution_count": 121,
     "metadata": {},
     "output_type": "execute_result"
    }
   ],
   "source": [
    "#train the model\n",
    "model.fit(x_train,y_train, batch_size=32,epochs=50)"
   ]
  },
  {
   "cell_type": "markdown",
   "metadata": {},
   "source": [
    "# preparing for test data set"
   ]
  },
  {
   "cell_type": "markdown",
   "metadata": {},
   "source": [
    "# data_testing (array 365 backwards from today)"
   ]
  },
  {
   "cell_type": "code",
   "execution_count": 122,
   "metadata": {},
   "outputs": [
    {
     "data": {
      "text/plain": [
       "(364, 1)"
      ]
     },
     "execution_count": 122,
     "metadata": {},
     "output_type": "execute_result"
    }
   ],
   "source": [
    "data_testing = dataset[training_data_len:]\n",
    "data_testing.shape"
   ]
  },
  {
   "cell_type": "markdown",
   "metadata": {},
   "source": [
    "# data_testing (array 365 backwards from today)"
   ]
  },
  {
   "cell_type": "code",
   "execution_count": 123,
   "metadata": {},
   "outputs": [],
   "source": [
    "#data_testing = dataset[training_data_len - 60: , :]\n",
    "#data_testing.shape"
   ]
  },
  {
   "cell_type": "markdown",
   "metadata": {},
   "source": [
    "# training data (1008 onwards from beginning)"
   ]
  },
  {
   "cell_type": "code",
   "execution_count": 124,
   "metadata": {},
   "outputs": [],
   "source": [
    "#training_data = dataset[:training_data_len]\n",
    "#training_data"
   ]
  },
  {
   "cell_type": "code",
   "execution_count": 125,
   "metadata": {},
   "outputs": [],
   "source": [
    "#training_data.shape"
   ]
  },
  {
   "cell_type": "markdown",
   "metadata": {},
   "source": [
    "# testing_datascaled (365 backwards from today)"
   ]
  },
  {
   "cell_type": "code",
   "execution_count": 126,
   "metadata": {},
   "outputs": [
    {
     "data": {
      "text/plain": [
       "(364, 1)"
      ]
     },
     "execution_count": 126,
     "metadata": {},
     "output_type": "execute_result"
    }
   ],
   "source": [
    "#create a new array containing scaled values \n",
    "#data_testingscaled = scaled_data[training_data_len - 60: , :]\n",
    "#data_testingscaled\n",
    "\n",
    "data_testingscaled = scaler.transform(data_testing)\n",
    "data_testingscaled.shape"
   ]
  },
  {
   "cell_type": "code",
   "execution_count": 127,
   "metadata": {},
   "outputs": [
    {
     "data": {
      "text/plain": [
       "(40, 1)"
      ]
     },
     "execution_count": 127,
     "metadata": {},
     "output_type": "execute_result"
    }
   ],
   "source": [
    "# a= scaled_dataset[numero iniziale : numero finale,]\n",
    "a=scaled_dataset[training_data_len:1500,:]\n",
    "a.shape"
   ]
  },
  {
   "cell_type": "markdown",
   "metadata": {},
   "source": [
    "# create the data set x_test and y_test\n",
    "# x_test (252,60,1) and y_test (252)"
   ]
  },
  {
   "cell_type": "code",
   "execution_count": 128,
   "metadata": {},
   "outputs": [],
   "source": [
    "x_test = []\n",
    "y_test = data_testingscaled[60:]\n",
    "\n",
    "for i in range(60, len(data_testingscaled)):\n",
    "    x_test.append(data_testingscaled[i-60:i,0])"
   ]
  },
  {
   "cell_type": "code",
   "execution_count": 129,
   "metadata": {},
   "outputs": [],
   "source": [
    "#the lists coming out from the previous block need to be transformed in a numy array"
   ]
  },
  {
   "cell_type": "code",
   "execution_count": 130,
   "metadata": {},
   "outputs": [],
   "source": [
    "x_test , y_test = np.array(x_test) ,np.array(y_test)"
   ]
  },
  {
   "cell_type": "code",
   "execution_count": 131,
   "metadata": {},
   "outputs": [
    {
     "data": {
      "text/plain": [
       "(304, 60)"
      ]
     },
     "execution_count": 131,
     "metadata": {},
     "output_type": "execute_result"
    }
   ],
   "source": [
    "x_test.shape"
   ]
  },
  {
   "cell_type": "code",
   "execution_count": 132,
   "metadata": {},
   "outputs": [
    {
     "data": {
      "text/plain": [
       "(304, 60, 1)"
      ]
     },
     "execution_count": 132,
     "metadata": {},
     "output_type": "execute_result"
    }
   ],
   "source": [
    "#reshape the data\n",
    "x_test = np.reshape(x_test,(x_test.shape[0],x_test.shape[1],1))\n",
    "x_test.shape"
   ]
  },
  {
   "cell_type": "code",
   "execution_count": 133,
   "metadata": {},
   "outputs": [
    {
     "data": {
      "text/plain": [
       "array([[[0.20666213],\n",
       "        [0.20666213],\n",
       "        [0.20666213],\n",
       "        ...,\n",
       "        [0.15703603],\n",
       "        [0.14806254],\n",
       "        [0.14479946]],\n",
       "\n",
       "       [[0.20666213],\n",
       "        [0.20666213],\n",
       "        [0.19170631],\n",
       "        ...,\n",
       "        [0.14806254],\n",
       "        [0.14479946],\n",
       "        [0.13718557]],\n",
       "\n",
       "       [[0.20666213],\n",
       "        [0.19170631],\n",
       "        [0.16913663],\n",
       "        ...,\n",
       "        [0.14479946],\n",
       "        [0.13718557],\n",
       "        [0.16913663]],\n",
       "\n",
       "       ...,\n",
       "\n",
       "       [[0.09721279],\n",
       "        [0.09721279],\n",
       "        [0.09993201],\n",
       "        ...,\n",
       "        [0.13079537],\n",
       "        [0.13949693],\n",
       "        [0.1260367 ]],\n",
       "\n",
       "       [[0.09721279],\n",
       "        [0.09993201],\n",
       "        [0.09830048],\n",
       "        ...,\n",
       "        [0.13949693],\n",
       "        [0.1260367 ],\n",
       "        [0.11529572]],\n",
       "\n",
       "       [[0.09993201],\n",
       "        [0.09830048],\n",
       "        [0.10836166],\n",
       "        ...,\n",
       "        [0.1260367 ],\n",
       "        [0.11529572],\n",
       "        [0.15186946]]])"
      ]
     },
     "execution_count": 133,
     "metadata": {},
     "output_type": "execute_result"
    }
   ],
   "source": [
    "x_test"
   ]
  },
  {
   "cell_type": "code",
   "execution_count": 134,
   "metadata": {},
   "outputs": [
    {
     "data": {
      "text/plain": [
       "(304, 1)"
      ]
     },
     "execution_count": 134,
     "metadata": {},
     "output_type": "execute_result"
    }
   ],
   "source": [
    "y_test.shape"
   ]
  },
  {
   "cell_type": "code",
   "execution_count": 135,
   "metadata": {},
   "outputs": [
    {
     "data": {
      "text/plain": [
       "array([[19.22999954],\n",
       "       [21.57999992],\n",
       "       [20.95000076],\n",
       "       [20.95000076],\n",
       "       [20.95000076],\n",
       "       [18.87999916],\n",
       "       [20.29999924],\n",
       "       [21.20000076],\n",
       "       [19.80999947],\n",
       "       [18.86000061],\n",
       "       [18.86000061],\n",
       "       [18.86000061],\n",
       "       [20.73999977],\n",
       "       [19.61000061],\n",
       "       [19.39999962],\n",
       "       [17.32999992],\n",
       "       [17.32999992],\n",
       "       [17.32999992],\n",
       "       [17.32999992],\n",
       "       [17.90999985],\n",
       "       [18.12000084],\n",
       "       [17.15999985],\n",
       "       [16.95000076],\n",
       "       [16.69000053],\n",
       "       [16.69000053],\n",
       "       [16.69000053],\n",
       "       [16.90999985],\n",
       "       [16.64999962],\n",
       "       [16.98999977],\n",
       "       [16.56999969],\n",
       "       [16.25      ],\n",
       "       [16.25      ],\n",
       "       [16.25      ],\n",
       "       [17.29000092],\n",
       "       [18.68000031],\n",
       "       [17.5       ],\n",
       "       [18.70999908],\n",
       "       [17.32999992],\n",
       "       [17.32999992],\n",
       "       [17.32999992],\n",
       "       [17.63999939],\n",
       "       [17.55999947],\n",
       "       [17.28000069],\n",
       "       [17.61000061],\n",
       "       [18.61000061],\n",
       "       [18.61000061],\n",
       "       [18.61000061],\n",
       "       [18.30999947],\n",
       "       [19.47999954],\n",
       "       [19.14999962],\n",
       "       [18.38999939],\n",
       "       [16.69000053],\n",
       "       [16.69000053],\n",
       "       [16.69000053],\n",
       "       [19.65999985],\n",
       "       [21.84000015],\n",
       "       [27.59000015],\n",
       "       [23.12999916],\n",
       "       [18.80999947],\n",
       "       [18.80999947],\n",
       "       [18.80999947],\n",
       "       [19.71999931],\n",
       "       [21.34000015],\n",
       "       [22.18000031],\n",
       "       [20.67000008],\n",
       "       [20.14999962],\n",
       "       [20.14999962],\n",
       "       [20.14999962],\n",
       "       [18.39999962],\n",
       "       [18.84000015],\n",
       "       [17.36000061],\n",
       "       [16.73999977],\n",
       "       [16.76000023],\n",
       "       [16.76000023],\n",
       "       [16.76000023],\n",
       "       [16.76000023],\n",
       "       [17.89999962],\n",
       "       [17.47999954],\n",
       "       [18.04000092],\n",
       "       [16.42000008],\n",
       "       [16.42000008],\n",
       "       [16.42000008],\n",
       "       [16.42000008],\n",
       "       [17.06999969],\n",
       "       [17.88999939],\n",
       "       [16.10000038],\n",
       "       [15.64999962],\n",
       "       [15.64999962],\n",
       "       [15.64999962],\n",
       "       [16.38999939],\n",
       "       [17.02000046],\n",
       "       [18.14999962],\n",
       "       [17.75      ],\n",
       "       [20.70000076],\n",
       "       [20.70000076],\n",
       "       [20.70000076],\n",
       "       [17.88999939],\n",
       "       [16.65999985],\n",
       "       [16.31999969],\n",
       "       [15.97000027],\n",
       "       [15.61999989],\n",
       "       [15.61999989],\n",
       "       [15.61999989],\n",
       "       [15.76000023],\n",
       "       [16.02000046],\n",
       "       [15.82999992],\n",
       "       [15.47999954],\n",
       "       [15.06999969],\n",
       "       [15.06999969],\n",
       "       [15.06999969],\n",
       "       [15.06999969],\n",
       "       [16.44000053],\n",
       "       [16.20000076],\n",
       "       [19.        ],\n",
       "       [16.18000031],\n",
       "       [16.18000031],\n",
       "       [16.18000031],\n",
       "       [16.17000008],\n",
       "       [17.12000084],\n",
       "       [16.32999992],\n",
       "       [17.01000023],\n",
       "       [18.45000076],\n",
       "       [18.45000076],\n",
       "       [18.45000076],\n",
       "       [22.5       ],\n",
       "       [19.72999954],\n",
       "       [17.90999985],\n",
       "       [17.69000053],\n",
       "       [17.20000076],\n",
       "       [17.20000076],\n",
       "       [17.20000076],\n",
       "       [17.57999992],\n",
       "       [19.36000061],\n",
       "       [18.30999947],\n",
       "       [17.70000076],\n",
       "       [18.23999977],\n",
       "       [18.23999977],\n",
       "       [18.23999977],\n",
       "       [19.45999908],\n",
       "       [18.04000092],\n",
       "       [17.96999931],\n",
       "       [17.28000069],\n",
       "       [16.14999962],\n",
       "       [16.14999962],\n",
       "       [16.14999962],\n",
       "       [16.71999931],\n",
       "       [16.79000092],\n",
       "       [16.17000008],\n",
       "       [15.59000015],\n",
       "       [15.44999981],\n",
       "       [15.44999981],\n",
       "       [15.44999981],\n",
       "       [16.12000084],\n",
       "       [17.90999985],\n",
       "       [21.56999969],\n",
       "       [21.67000008],\n",
       "       [18.55999947],\n",
       "       [18.55999947],\n",
       "       [18.55999947],\n",
       "       [17.14999962],\n",
       "       [17.21999931],\n",
       "       [16.79000092],\n",
       "       [18.84000015],\n",
       "       [16.38999939],\n",
       "       [16.38999939],\n",
       "       [16.38999939],\n",
       "       [16.19000053],\n",
       "       [16.47999954],\n",
       "       [16.11000061],\n",
       "       [16.40999985],\n",
       "       [16.40999985],\n",
       "       [16.40999985],\n",
       "       [16.40999985],\n",
       "       [16.40999985],\n",
       "       [18.13999939],\n",
       "       [17.95999908],\n",
       "       [18.79999924],\n",
       "       [20.95000076],\n",
       "       [20.95000076],\n",
       "       [20.95000076],\n",
       "       [19.37000084],\n",
       "       [19.45999908],\n",
       "       [18.18000031],\n",
       "       [18.69000053],\n",
       "       [20.80999947],\n",
       "       [20.80999947],\n",
       "       [20.80999947],\n",
       "       [25.70999908],\n",
       "       [24.36000061],\n",
       "       [20.87000084],\n",
       "       [18.62999916],\n",
       "       [17.75      ],\n",
       "       [17.75      ],\n",
       "       [17.75      ],\n",
       "       [18.76000023],\n",
       "       [23.25      ],\n",
       "       [22.55999947],\n",
       "       [23.13999939],\n",
       "       [21.10000038],\n",
       "       [21.10000038],\n",
       "       [21.10000038],\n",
       "       [22.95999908],\n",
       "       [21.29999924],\n",
       "       [21.        ],\n",
       "       [19.54000092],\n",
       "       [18.77000046],\n",
       "       [18.77000046],\n",
       "       [18.77000046],\n",
       "       [20.        ],\n",
       "       [19.85000038],\n",
       "       [18.63999939],\n",
       "       [16.86000061],\n",
       "       [16.29999924],\n",
       "       [16.29999924],\n",
       "       [16.29999924],\n",
       "       [16.30999947],\n",
       "       [15.69999981],\n",
       "       [15.48999977],\n",
       "       [15.01000023],\n",
       "       [15.43000031],\n",
       "       [15.43000031],\n",
       "       [15.43000031],\n",
       "       [15.23999977],\n",
       "       [15.97999954],\n",
       "       [16.97999954],\n",
       "       [16.53000069],\n",
       "       [16.26000023],\n",
       "       [16.26000023],\n",
       "       [16.26000023],\n",
       "       [16.40999985],\n",
       "       [16.03000069],\n",
       "       [15.10000038],\n",
       "       [15.43999958],\n",
       "       [16.47999954],\n",
       "       [16.47999954],\n",
       "       [16.47999954],\n",
       "       [17.21999931],\n",
       "       [17.78000069],\n",
       "       [18.72999954],\n",
       "       [17.65999985],\n",
       "       [16.29000092],\n",
       "       [16.29000092],\n",
       "       [16.29000092],\n",
       "       [16.48999977],\n",
       "       [16.37000084],\n",
       "       [17.11000061],\n",
       "       [17.59000015],\n",
       "       [17.90999985],\n",
       "       [17.90999985],\n",
       "       [17.90999985],\n",
       "       [19.17000008],\n",
       "       [19.37999916],\n",
       "       [18.57999992],\n",
       "       [18.57999992],\n",
       "       [28.62000084],\n",
       "       [28.62000084],\n",
       "       [28.62000084],\n",
       "       [22.95999908],\n",
       "       [27.19000053],\n",
       "       [31.12000084],\n",
       "       [27.95000076],\n",
       "       [30.67000008],\n",
       "       [30.67000008],\n",
       "       [30.67000008],\n",
       "       [27.18000031],\n",
       "       [21.88999939],\n",
       "       [19.89999962],\n",
       "       [21.57999992],\n",
       "       [18.69000053],\n",
       "       [18.69000053],\n",
       "       [18.69000053],\n",
       "       [20.30999947],\n",
       "       [21.88999939],\n",
       "       [19.29000092],\n",
       "       [20.56999969],\n",
       "       [21.56999969],\n",
       "       [21.56999969],\n",
       "       [21.56999969],\n",
       "       [22.87000084],\n",
       "       [21.01000023],\n",
       "       [18.62999916],\n",
       "       [17.95999908],\n",
       "       [17.95999908],\n",
       "       [17.95999908],\n",
       "       [17.95999908],\n",
       "       [17.68000031],\n",
       "       [17.54000092],\n",
       "       [16.95000076],\n",
       "       [17.32999992],\n",
       "       [17.21999931],\n",
       "       [17.21999931],\n",
       "       [17.21999931],\n",
       "       [16.60000038],\n",
       "       [16.90999985],\n",
       "       [19.72999954],\n",
       "       [19.61000061],\n",
       "       [18.76000023],\n",
       "       [18.76000023],\n",
       "       [18.76000023],\n",
       "       [19.39999962],\n",
       "       [18.40999985],\n",
       "       [17.62000084],\n",
       "       [20.30999947],\n",
       "       [21.25      ]])"
      ]
     },
     "execution_count": 135,
     "metadata": {},
     "output_type": "execute_result"
    }
   ],
   "source": [
    "y_test = scaler.inverse_transform(y_test)\n",
    "y_test"
   ]
  },
  {
   "cell_type": "code",
   "execution_count": 136,
   "metadata": {},
   "outputs": [
    {
     "data": {
      "text/plain": [
       "(304, 1)"
      ]
     },
     "execution_count": 136,
     "metadata": {},
     "output_type": "execute_result"
    }
   ],
   "source": [
    "# get the models predicted price values\n",
    "predictions = model.predict(x_test)\n",
    "predictions.shape"
   ]
  },
  {
   "cell_type": "code",
   "execution_count": 137,
   "metadata": {},
   "outputs": [],
   "source": [
    "predictions = scaler.inverse_transform(predictions)"
   ]
  },
  {
   "cell_type": "code",
   "execution_count": 138,
   "metadata": {},
   "outputs": [
    {
     "data": {
      "text/plain": [
       "array([[19.87573  ],\n",
       "       [19.398973 ],\n",
       "       [20.32966  ],\n",
       "       [20.314259 ],\n",
       "       [20.309324 ],\n",
       "       [20.313118 ],\n",
       "       [19.289051 ],\n",
       "       [19.60654  ],\n",
       "       [20.132017 ],\n",
       "       [19.621899 ],\n",
       "       [18.969406 ],\n",
       "       [18.711653 ],\n",
       "       [18.576897 ],\n",
       "       [19.42117  ],\n",
       "       [19.150652 ],\n",
       "       [18.95951  ],\n",
       "       [17.864372 ],\n",
       "       [17.44185  ],\n",
       "       [17.230762 ],\n",
       "       [17.095095 ],\n",
       "       [17.285881 ],\n",
       "       [17.427525 ],\n",
       "       [16.991253 ],\n",
       "       [16.720232 ],\n",
       "       [16.470318 ],\n",
       "       [16.350029 ],\n",
       "       [16.27669  ],\n",
       "       [16.33409  ],\n",
       "       [16.208694 ],\n",
       "       [16.319874 ],\n",
       "       [16.143162 ],\n",
       "       [15.914904 ],\n",
       "       [15.819994 ],\n",
       "       [15.768057 ],\n",
       "       [16.247551 ],\n",
       "       [17.105024 ],\n",
       "       [16.856731 ],\n",
       "       [17.407825 ],\n",
       "       [16.955387 ],\n",
       "       [16.818817 ],\n",
       "       [16.773527 ],\n",
       "       [16.905106 ],\n",
       "       [16.910004 ],\n",
       "       [16.77532  ],\n",
       "       [16.890244 ],\n",
       "       [17.425106 ],\n",
       "       [17.629028 ],\n",
       "       [17.729992 ],\n",
       "       [17.645857 ],\n",
       "       [18.215492 ],\n",
       "       [18.27787  ],\n",
       "       [17.953861 ],\n",
       "       [17.013275 ],\n",
       "       [16.659485 ],\n",
       "       [16.486254 ],\n",
       "       [17.847313 ],\n",
       "       [19.408947 ],\n",
       "       [22.894527 ],\n",
       "       [22.093357 ],\n",
       "       [19.851162 ],\n",
       "       [19.118265 ],\n",
       "       [18.812943 ],\n",
       "       [19.08836  ],\n",
       "       [19.944813 ],\n",
       "       [20.66546  ],\n",
       "       [20.212833 ],\n",
       "       [19.832756 ],\n",
       "       [19.704603 ],\n",
       "       [19.646881 ],\n",
       "       [18.743698 ],\n",
       "       [18.60902  ],\n",
       "       [17.780487 ],\n",
       "       [17.121805 ],\n",
       "       [16.82479  ],\n",
       "       [16.644588 ],\n",
       "       [16.518684 ],\n",
       "       [16.426394 ],\n",
       "       [16.9217   ],\n",
       "       [16.875296 ],\n",
       "       [17.13863  ],\n",
       "       [16.439243 ],\n",
       "       [16.186691 ],\n",
       "       [16.071121 ],\n",
       "       [15.9998865],\n",
       "       [16.271505 ],\n",
       "       [16.762264 ],\n",
       "       [16.061535 ],\n",
       "       [15.595871 ],\n",
       "       [15.407221 ],\n",
       "       [15.304082 ],\n",
       "       [15.600897 ],\n",
       "       [16.000883 ],\n",
       "       [16.708342 ],\n",
       "       [16.794163 ],\n",
       "       [18.330477 ],\n",
       "       [18.945929 ],\n",
       "       [19.262997 ],\n",
       "       [18.075045 ],\n",
       "       [17.085289 ],\n",
       "       [16.538494 ],\n",
       "       [16.108116 ],\n",
       "       [15.713882 ],\n",
       "       [15.508737 ],\n",
       "       [15.3782015],\n",
       "       [15.354694 ],\n",
       "       [15.440979 ],\n",
       "       [15.357186 ],\n",
       "       [15.141911 ],\n",
       "       [14.848374 ],\n",
       "       [14.721839 ],\n",
       "       [14.650748 ],\n",
       "       [14.602375 ],\n",
       "       [15.243787 ],\n",
       "       [15.354267 ],\n",
       "       [16.799532 ],\n",
       "       [15.96918  ],\n",
       "       [15.727086 ],\n",
       "       [15.654553 ],\n",
       "       [15.617773 ],\n",
       "       [16.067232 ],\n",
       "       [15.840522 ],\n",
       "       [16.106184 ],\n",
       "       [16.922398 ],\n",
       "       [17.242233 ],\n",
       "       [17.405567 ],\n",
       "       [19.521585 ],\n",
       "       [18.98387  ],\n",
       "       [17.987085 ],\n",
       "       [17.559816 ],\n",
       "       [17.14627  ],\n",
       "       [16.961142 ],\n",
       "       [16.854849 ],\n",
       "       [16.970848 ],\n",
       "       [17.871962 ],\n",
       "       [17.681698 ],\n",
       "       [17.338533 ],\n",
       "       [17.49307  ],\n",
       "       [17.545973 ],\n",
       "       [17.566877 ],\n",
       "       [18.183569 ],\n",
       "       [17.716581 ],\n",
       "       [17.532814 ],\n",
       "       [17.123188 ],\n",
       "       [16.399158 ],\n",
       "       [16.101889 ],\n",
       "       [15.942827 ],\n",
       "       [16.119333 ],\n",
       "       [16.184761 ],\n",
       "       [15.88697  ],\n",
       "       [15.481718 ],\n",
       "       [15.243589 ],\n",
       "       [15.125072 ],\n",
       "       [15.050323 ],\n",
       "       [15.328312 ],\n",
       "       [16.29942  ],\n",
       "       [18.480272 ],\n",
       "       [19.397892 ],\n",
       "       [18.322372 ],\n",
       "       [18.040304 ],\n",
       "       [17.970713 ],\n",
       "       [17.249691 ],\n",
       "       [17.010704 ],\n",
       "       [16.677414 ],\n",
       "       [17.534182 ],\n",
       "       [16.61045  ],\n",
       "       [16.27352  ],\n",
       "       [16.121367 ],\n",
       "       [15.929394 ],\n",
       "       [15.970514 ],\n",
       "       [15.776043 ],\n",
       "       [15.834666 ],\n",
       "       [15.838995 ],\n",
       "       [15.830584 ],\n",
       "       [15.821683 ],\n",
       "       [15.814237 ],\n",
       "       [16.664436 ],\n",
       "       [16.894463 ],\n",
       "       [17.431091 ],\n",
       "       [18.736206 ],\n",
       "       [19.275768 ],\n",
       "       [19.56499  ],\n",
       "       [18.972315 ],\n",
       "       [18.857697 ],\n",
       "       [18.196844 ],\n",
       "       [18.202065 ],\n",
       "       [19.230425 ],\n",
       "       [19.601238 ],\n",
       "       [19.77324  ],\n",
       "       [22.315979 ],\n",
       "       [22.645126 ],\n",
       "       [21.160845 ],\n",
       "       [19.592405 ],\n",
       "       [18.567095 ],\n",
       "       [18.108494 ],\n",
       "       [17.841053 ],\n",
       "       [18.158703 ],\n",
       "       [20.44425  ],\n",
       "       [20.942022 ],\n",
       "       [21.499031 ],\n",
       "       [20.779762 ],\n",
       "       [20.582308 ],\n",
       "       [20.52723  ],\n",
       "       [21.429977 ],\n",
       "       [20.9443   ],\n",
       "       [20.646025 ],\n",
       "       [19.815266 ],\n",
       "       [19.106981 ],\n",
       "       [18.796099 ],\n",
       "       [18.618126 ],\n",
       "       [19.107159 ],\n",
       "       [19.176334 ],\n",
       "       [18.595692 ],\n",
       "       [17.495476 ],\n",
       "       [16.779217 ],\n",
       "       [16.445147 ],\n",
       "       [16.243732 ],\n",
       "       [16.108572 ],\n",
       "       [15.706323 ],\n",
       "       [15.413091 ],\n",
       "       [15.024456 ],\n",
       "       [15.045007 ],\n",
       "       [15.009937 ],\n",
       "       [14.968427 ],\n",
       "       [14.839969 ],\n",
       "       [15.142913 ],\n",
       "       [15.7370205],\n",
       "       [15.7412195],\n",
       "       [15.636804 ],\n",
       "       [15.617814 ],\n",
       "       [15.61842  ],\n",
       "       [15.6960945],\n",
       "       [15.539527 ],\n",
       "       [15.025269 ],\n",
       "       [14.995977 ],\n",
       "       [15.474723 ],\n",
       "       [15.636362 ],\n",
       "       [15.705418 ],\n",
       "       [16.112137 ],\n",
       "       [16.555569 ],\n",
       "       [17.218674 ],\n",
       "       [16.97538  ],\n",
       "       [16.257088 ],\n",
       "       [16.011766 ],\n",
       "       [15.903825 ],\n",
       "       [15.938353 ],\n",
       "       [15.872211 ],\n",
       "       [16.202091 ],\n",
       "       [16.55512  ],\n",
       "       [16.85451  ],\n",
       "       [16.988947 ],\n",
       "       [17.06717  ],\n",
       "       [17.745298 ],\n",
       "       [18.125    ],\n",
       "       [17.911995 ],\n",
       "       [17.875952 ],\n",
       "       [22.872505 ],\n",
       "       [24.783688 ],\n",
       "       [25.72401  ],\n",
       "       [23.503843 ],\n",
       "       [24.962008 ],\n",
       "       [27.508028 ],\n",
       "       [26.965525 ],\n",
       "       [28.271194 ],\n",
       "       [28.858702 ],\n",
       "       [29.187033 ],\n",
       "       [27.671919 ],\n",
       "       [24.53735  ],\n",
       "       [22.342327 ],\n",
       "       [22.19683  ],\n",
       "       [20.508085 ],\n",
       "       [19.729078 ],\n",
       "       [19.280296 ],\n",
       "       [19.776695 ],\n",
       "       [20.642685 ],\n",
       "       [19.63268  ],\n",
       "       [19.893917 ],\n",
       "       [20.457876 ],\n",
       "       [20.65554  ],\n",
       "       [20.74556  ],\n",
       "       [21.446096 ],\n",
       "       [20.804317 ],\n",
       "       [19.418224 ],\n",
       "       [18.562534 ],\n",
       "       [18.177938 ],\n",
       "       [17.95154  ],\n",
       "       [17.795883 ],\n",
       "       [17.543941 ],\n",
       "       [17.338041 ],\n",
       "       [16.931135 ],\n",
       "       [16.932238 ],\n",
       "       [16.83955  ],\n",
       "       [16.777903 ],\n",
       "       [16.734285 ],\n",
       "       [16.394974 ],\n",
       "       [16.40776  ],\n",
       "       [17.787153 ],\n",
       "       [18.234694 ],\n",
       "       [18.029959 ],\n",
       "       [18.008482 ],\n",
       "       [18.02817  ],\n",
       "       [18.36765  ],\n",
       "       [18.015123 ],\n",
       "       [17.510424 ],\n",
       "       [18.65335  ]], dtype=float32)"
      ]
     },
     "execution_count": 138,
     "metadata": {},
     "output_type": "execute_result"
    }
   ],
   "source": [
    "predictions"
   ]
  },
  {
   "cell_type": "code",
   "execution_count": 139,
   "metadata": {
    "scrolled": false
   },
   "outputs": [
    {
     "name": "stdout",
     "output_type": "stream",
     "text": [
      "[[19.87573  ]\n",
      " [19.398973 ]\n",
      " [20.32966  ]\n",
      " [20.314259 ]\n",
      " [20.309324 ]\n",
      " [20.313118 ]\n",
      " [19.289051 ]\n",
      " [19.60654  ]\n",
      " [20.132017 ]\n",
      " [19.621899 ]\n",
      " [18.969406 ]\n",
      " [18.711653 ]\n",
      " [18.576897 ]\n",
      " [19.42117  ]\n",
      " [19.150652 ]\n",
      " [18.95951  ]\n",
      " [17.864372 ]\n",
      " [17.44185  ]\n",
      " [17.230762 ]\n",
      " [17.095095 ]\n",
      " [17.285881 ]\n",
      " [17.427525 ]\n",
      " [16.991253 ]\n",
      " [16.720232 ]\n",
      " [16.470318 ]\n",
      " [16.350029 ]\n",
      " [16.27669  ]\n",
      " [16.33409  ]\n",
      " [16.208694 ]\n",
      " [16.319874 ]\n",
      " [16.143162 ]\n",
      " [15.914904 ]\n",
      " [15.819994 ]\n",
      " [15.768057 ]\n",
      " [16.247551 ]\n",
      " [17.105024 ]\n",
      " [16.856731 ]\n",
      " [17.407825 ]\n",
      " [16.955387 ]\n",
      " [16.818817 ]\n",
      " [16.773527 ]\n",
      " [16.905106 ]\n",
      " [16.910004 ]\n",
      " [16.77532  ]\n",
      " [16.890244 ]\n",
      " [17.425106 ]\n",
      " [17.629028 ]\n",
      " [17.729992 ]\n",
      " [17.645857 ]\n",
      " [18.215492 ]\n",
      " [18.27787  ]\n",
      " [17.953861 ]\n",
      " [17.013275 ]\n",
      " [16.659485 ]\n",
      " [16.486254 ]\n",
      " [17.847313 ]\n",
      " [19.408947 ]\n",
      " [22.894527 ]\n",
      " [22.093357 ]\n",
      " [19.851162 ]\n",
      " [19.118265 ]\n",
      " [18.812943 ]\n",
      " [19.08836  ]\n",
      " [19.944813 ]\n",
      " [20.66546  ]\n",
      " [20.212833 ]\n",
      " [19.832756 ]\n",
      " [19.704603 ]\n",
      " [19.646881 ]\n",
      " [18.743698 ]\n",
      " [18.60902  ]\n",
      " [17.780487 ]\n",
      " [17.121805 ]\n",
      " [16.82479  ]\n",
      " [16.644588 ]\n",
      " [16.518684 ]\n",
      " [16.426394 ]\n",
      " [16.9217   ]\n",
      " [16.875296 ]\n",
      " [17.13863  ]\n",
      " [16.439243 ]\n",
      " [16.186691 ]\n",
      " [16.071121 ]\n",
      " [15.9998865]\n",
      " [16.271505 ]\n",
      " [16.762264 ]\n",
      " [16.061535 ]\n",
      " [15.595871 ]\n",
      " [15.407221 ]\n",
      " [15.304082 ]\n",
      " [15.600897 ]\n",
      " [16.000883 ]\n",
      " [16.708342 ]\n",
      " [16.794163 ]\n",
      " [18.330477 ]\n",
      " [18.945929 ]\n",
      " [19.262997 ]\n",
      " [18.075045 ]\n",
      " [17.085289 ]\n",
      " [16.538494 ]\n",
      " [16.108116 ]\n",
      " [15.713882 ]\n",
      " [15.508737 ]\n",
      " [15.3782015]\n",
      " [15.354694 ]\n",
      " [15.440979 ]\n",
      " [15.357186 ]\n",
      " [15.141911 ]\n",
      " [14.848374 ]\n",
      " [14.721839 ]\n",
      " [14.650748 ]\n",
      " [14.602375 ]\n",
      " [15.243787 ]\n",
      " [15.354267 ]\n",
      " [16.799532 ]\n",
      " [15.96918  ]\n",
      " [15.727086 ]\n",
      " [15.654553 ]\n",
      " [15.617773 ]\n",
      " [16.067232 ]\n",
      " [15.840522 ]\n",
      " [16.106184 ]\n",
      " [16.922398 ]\n",
      " [17.242233 ]\n",
      " [17.405567 ]\n",
      " [19.521585 ]\n",
      " [18.98387  ]\n",
      " [17.987085 ]\n",
      " [17.559816 ]\n",
      " [17.14627  ]\n",
      " [16.961142 ]\n",
      " [16.854849 ]\n",
      " [16.970848 ]\n",
      " [17.871962 ]\n",
      " [17.681698 ]\n",
      " [17.338533 ]\n",
      " [17.49307  ]\n",
      " [17.545973 ]\n",
      " [17.566877 ]\n",
      " [18.183569 ]\n",
      " [17.716581 ]\n",
      " [17.532814 ]\n",
      " [17.123188 ]\n",
      " [16.399158 ]\n",
      " [16.101889 ]\n",
      " [15.942827 ]\n",
      " [16.119333 ]\n",
      " [16.184761 ]\n",
      " [15.88697  ]\n",
      " [15.481718 ]\n",
      " [15.243589 ]\n",
      " [15.125072 ]\n",
      " [15.050323 ]\n",
      " [15.328312 ]\n",
      " [16.29942  ]\n",
      " [18.480272 ]\n",
      " [19.397892 ]\n",
      " [18.322372 ]\n",
      " [18.040304 ]\n",
      " [17.970713 ]\n",
      " [17.249691 ]\n",
      " [17.010704 ]\n",
      " [16.677414 ]\n",
      " [17.534182 ]\n",
      " [16.61045  ]\n",
      " [16.27352  ]\n",
      " [16.121367 ]\n",
      " [15.929394 ]\n",
      " [15.970514 ]\n",
      " [15.776043 ]\n",
      " [15.834666 ]\n",
      " [15.838995 ]\n",
      " [15.830584 ]\n",
      " [15.821683 ]\n",
      " [15.814237 ]\n",
      " [16.664436 ]\n",
      " [16.894463 ]\n",
      " [17.431091 ]\n",
      " [18.736206 ]\n",
      " [19.275768 ]\n",
      " [19.56499  ]\n",
      " [18.972315 ]\n",
      " [18.857697 ]\n",
      " [18.196844 ]\n",
      " [18.202065 ]\n",
      " [19.230425 ]\n",
      " [19.601238 ]\n",
      " [19.77324  ]\n",
      " [22.315979 ]\n",
      " [22.645126 ]\n",
      " [21.160845 ]\n",
      " [19.592405 ]\n",
      " [18.567095 ]\n",
      " [18.108494 ]\n",
      " [17.841053 ]\n",
      " [18.158703 ]\n",
      " [20.44425  ]\n",
      " [20.942022 ]\n",
      " [21.499031 ]\n",
      " [20.779762 ]\n",
      " [20.582308 ]\n",
      " [20.52723  ]\n",
      " [21.429977 ]\n",
      " [20.9443   ]\n",
      " [20.646025 ]\n",
      " [19.815266 ]\n",
      " [19.106981 ]\n",
      " [18.796099 ]\n",
      " [18.618126 ]\n",
      " [19.107159 ]\n",
      " [19.176334 ]\n",
      " [18.595692 ]\n",
      " [17.495476 ]\n",
      " [16.779217 ]\n",
      " [16.445147 ]\n",
      " [16.243732 ]\n",
      " [16.108572 ]\n",
      " [15.706323 ]\n",
      " [15.413091 ]\n",
      " [15.024456 ]\n",
      " [15.045007 ]\n",
      " [15.009937 ]\n",
      " [14.968427 ]\n",
      " [14.839969 ]\n",
      " [15.142913 ]\n",
      " [15.7370205]\n",
      " [15.7412195]\n",
      " [15.636804 ]\n",
      " [15.617814 ]\n",
      " [15.61842  ]\n",
      " [15.6960945]\n",
      " [15.539527 ]\n",
      " [15.025269 ]\n",
      " [14.995977 ]\n",
      " [15.474723 ]\n",
      " [15.636362 ]\n",
      " [15.705418 ]\n",
      " [16.112137 ]\n",
      " [16.555569 ]\n",
      " [17.218674 ]\n",
      " [16.97538  ]\n",
      " [16.257088 ]\n",
      " [16.011766 ]\n",
      " [15.903825 ]\n",
      " [15.938353 ]\n",
      " [15.872211 ]\n",
      " [16.202091 ]\n",
      " [16.55512  ]\n",
      " [16.85451  ]\n",
      " [16.988947 ]\n",
      " [17.06717  ]\n",
      " [17.745298 ]\n",
      " [18.125    ]\n",
      " [17.911995 ]\n",
      " [17.875952 ]\n",
      " [22.872505 ]\n",
      " [24.783688 ]\n",
      " [25.72401  ]\n",
      " [23.503843 ]\n",
      " [24.962008 ]\n",
      " [27.508028 ]\n",
      " [26.965525 ]\n",
      " [28.271194 ]\n",
      " [28.858702 ]\n",
      " [29.187033 ]\n",
      " [27.671919 ]\n",
      " [24.53735  ]\n",
      " [22.342327 ]\n",
      " [22.19683  ]\n",
      " [20.508085 ]\n",
      " [19.729078 ]\n",
      " [19.280296 ]\n",
      " [19.776695 ]\n",
      " [20.642685 ]\n",
      " [19.63268  ]\n",
      " [19.893917 ]\n",
      " [20.457876 ]\n",
      " [20.65554  ]\n",
      " [20.74556  ]\n",
      " [21.446096 ]\n",
      " [20.804317 ]\n",
      " [19.418224 ]\n",
      " [18.562534 ]\n",
      " [18.177938 ]\n",
      " [17.95154  ]\n",
      " [17.795883 ]\n",
      " [17.543941 ]\n",
      " [17.338041 ]\n",
      " [16.931135 ]\n",
      " [16.932238 ]\n",
      " [16.83955  ]\n",
      " [16.777903 ]\n",
      " [16.734285 ]\n",
      " [16.394974 ]\n",
      " [16.40776  ]\n",
      " [17.787153 ]\n",
      " [18.234694 ]\n",
      " [18.029959 ]\n",
      " [18.008482 ]\n",
      " [18.02817  ]\n",
      " [18.36765  ]\n",
      " [18.015123 ]\n",
      " [17.510424 ]\n",
      " [18.65335  ]]\n"
     ]
    }
   ],
   "source": [
    "print(predictions)"
   ]
  },
  {
   "cell_type": "code",
   "execution_count": 140,
   "metadata": {},
   "outputs": [
    {
     "data": {
      "text/plain": [
       "0.615964230738188"
      ]
     },
     "execution_count": 140,
     "metadata": {},
     "output_type": "execute_result"
    }
   ],
   "source": [
    "#get the root mean squared error (RMSE)\n",
    "rmse = np.sqrt( np.mean (predictions - y_test)**2)\n",
    "rmse"
   ]
  },
  {
   "cell_type": "code",
   "execution_count": 141,
   "metadata": {},
   "outputs": [],
   "source": [
    "#start = datetime(2016, 12, 27)\n",
    "#end = datetime(2021, 12, 28)\n",
    "#origdata = yf.download(tickers=stock_symbol, start=start, end=end)"
   ]
  },
  {
   "cell_type": "markdown",
   "metadata": {},
   "source": [
    "# PREPARING TO plot the data"
   ]
  },
  {
   "cell_type": "code",
   "execution_count": 142,
   "metadata": {},
   "outputs": [
    {
     "data": {
      "text/html": [
       "<div>\n",
       "<style scoped>\n",
       "    .dataframe tbody tr th:only-of-type {\n",
       "        vertical-align: middle;\n",
       "    }\n",
       "\n",
       "    .dataframe tbody tr th {\n",
       "        vertical-align: top;\n",
       "    }\n",
       "\n",
       "    .dataframe thead th {\n",
       "        text-align: right;\n",
       "    }\n",
       "</style>\n",
       "<table border=\"1\" class=\"dataframe\">\n",
       "  <thead>\n",
       "    <tr style=\"text-align: right;\">\n",
       "      <th></th>\n",
       "      <th>Date</th>\n",
       "      <th>Actual_Close</th>\n",
       "    </tr>\n",
       "  </thead>\n",
       "  <tbody>\n",
       "    <tr>\n",
       "      <th>0</th>\n",
       "      <td>2017-01-11</td>\n",
       "      <td>11.870000</td>\n",
       "    </tr>\n",
       "    <tr>\n",
       "      <th>1</th>\n",
       "      <td>2017-01-12</td>\n",
       "      <td>12.480000</td>\n",
       "    </tr>\n",
       "    <tr>\n",
       "      <th>2</th>\n",
       "      <td>2017-01-13</td>\n",
       "      <td>12.780000</td>\n",
       "    </tr>\n",
       "    <tr>\n",
       "      <th>3</th>\n",
       "      <td>2017-01-14</td>\n",
       "      <td>11.540000</td>\n",
       "    </tr>\n",
       "    <tr>\n",
       "      <th>4</th>\n",
       "      <td>2017-01-15</td>\n",
       "      <td>11.540000</td>\n",
       "    </tr>\n",
       "    <tr>\n",
       "      <th>...</th>\n",
       "      <td>...</td>\n",
       "      <td>...</td>\n",
       "    </tr>\n",
       "    <tr>\n",
       "      <th>1457</th>\n",
       "      <td>2021-01-07</td>\n",
       "      <td>22.209999</td>\n",
       "    </tr>\n",
       "    <tr>\n",
       "      <th>1458</th>\n",
       "      <td>2021-01-08</td>\n",
       "      <td>23.250000</td>\n",
       "    </tr>\n",
       "    <tr>\n",
       "      <th>1459</th>\n",
       "      <td>2021-01-09</td>\n",
       "      <td>24.340000</td>\n",
       "    </tr>\n",
       "    <tr>\n",
       "      <th>1460</th>\n",
       "      <td>2021-01-10</td>\n",
       "      <td>NaN</td>\n",
       "    </tr>\n",
       "    <tr>\n",
       "      <th>1461</th>\n",
       "      <td>2021-01-11</td>\n",
       "      <td>NaN</td>\n",
       "    </tr>\n",
       "  </tbody>\n",
       "</table>\n",
       "<p>1462 rows × 2 columns</p>\n",
       "</div>"
      ],
      "text/plain": [
       "           Date  Actual_Close\n",
       "0    2017-01-11     11.870000\n",
       "1    2017-01-12     12.480000\n",
       "2    2017-01-13     12.780000\n",
       "3    2017-01-14     11.540000\n",
       "4    2017-01-15     11.540000\n",
       "...         ...           ...\n",
       "1457 2021-01-07     22.209999\n",
       "1458 2021-01-08     23.250000\n",
       "1459 2021-01-09     24.340000\n",
       "1460 2021-01-10           NaN\n",
       "1461 2021-01-11           NaN\n",
       "\n",
       "[1462 rows x 2 columns]"
      ]
     },
     "execution_count": 142,
     "metadata": {},
     "output_type": "execute_result"
    }
   ],
   "source": [
    "data_training = dataset[:training_data_len]\n",
    "data_training=pd.DataFrame(data_training)\n",
    "\n",
    "\n",
    "training_datadates = pd.DataFrame()\n",
    "training_datadates['Date'] = pd.date_range('01/11/2017', periods = 1462 , freq ='d')\n",
    "\n",
    "data_training.columns=['Actual_Close']\n",
    "data_training = pd.concat([training_datadates,data_training],axis=1)\n",
    "\n",
    "\n",
    "#data_training.set_index(data_training[\"Date\"], inplace=True)\n",
    "#data_training=data_training.drop(['Date'], axis=1)\n",
    "data_training"
   ]
  },
  {
   "cell_type": "code",
   "execution_count": 143,
   "metadata": {},
   "outputs": [
    {
     "data": {
      "text/html": [
       "<div>\n",
       "<style scoped>\n",
       "    .dataframe tbody tr th:only-of-type {\n",
       "        vertical-align: middle;\n",
       "    }\n",
       "\n",
       "    .dataframe tbody tr th {\n",
       "        vertical-align: top;\n",
       "    }\n",
       "\n",
       "    .dataframe thead th {\n",
       "        text-align: right;\n",
       "    }\n",
       "</style>\n",
       "<table border=\"1\" class=\"dataframe\">\n",
       "  <thead>\n",
       "    <tr style=\"text-align: right;\">\n",
       "      <th></th>\n",
       "      <th>Date</th>\n",
       "      <th>Actual_Close</th>\n",
       "    </tr>\n",
       "  </thead>\n",
       "  <tbody>\n",
       "    <tr>\n",
       "      <th>0</th>\n",
       "      <td>2021-01-12</td>\n",
       "      <td>24.340000</td>\n",
       "    </tr>\n",
       "    <tr>\n",
       "      <th>1</th>\n",
       "      <td>2021-01-13</td>\n",
       "      <td>24.340000</td>\n",
       "    </tr>\n",
       "    <tr>\n",
       "      <th>2</th>\n",
       "      <td>2021-01-14</td>\n",
       "      <td>24.340000</td>\n",
       "    </tr>\n",
       "    <tr>\n",
       "      <th>3</th>\n",
       "      <td>2021-01-15</td>\n",
       "      <td>23.240000</td>\n",
       "    </tr>\n",
       "    <tr>\n",
       "      <th>4</th>\n",
       "      <td>2021-01-16</td>\n",
       "      <td>21.580000</td>\n",
       "    </tr>\n",
       "    <tr>\n",
       "      <th>...</th>\n",
       "      <td>...</td>\n",
       "      <td>...</td>\n",
       "    </tr>\n",
       "    <tr>\n",
       "      <th>360</th>\n",
       "      <td>2022-01-07</td>\n",
       "      <td>18.410000</td>\n",
       "    </tr>\n",
       "    <tr>\n",
       "      <th>361</th>\n",
       "      <td>2022-01-08</td>\n",
       "      <td>17.620001</td>\n",
       "    </tr>\n",
       "    <tr>\n",
       "      <th>362</th>\n",
       "      <td>2022-01-09</td>\n",
       "      <td>20.309999</td>\n",
       "    </tr>\n",
       "    <tr>\n",
       "      <th>363</th>\n",
       "      <td>2022-01-10</td>\n",
       "      <td>21.250000</td>\n",
       "    </tr>\n",
       "    <tr>\n",
       "      <th>364</th>\n",
       "      <td>2022-01-11</td>\n",
       "      <td>NaN</td>\n",
       "    </tr>\n",
       "  </tbody>\n",
       "</table>\n",
       "<p>365 rows × 2 columns</p>\n",
       "</div>"
      ],
      "text/plain": [
       "          Date  Actual_Close\n",
       "0   2021-01-12     24.340000\n",
       "1   2021-01-13     24.340000\n",
       "2   2021-01-14     24.340000\n",
       "3   2021-01-15     23.240000\n",
       "4   2021-01-16     21.580000\n",
       "..         ...           ...\n",
       "360 2022-01-07     18.410000\n",
       "361 2022-01-08     17.620001\n",
       "362 2022-01-09     20.309999\n",
       "363 2022-01-10     21.250000\n",
       "364 2022-01-11           NaN\n",
       "\n",
       "[365 rows x 2 columns]"
      ]
     },
     "execution_count": 143,
     "metadata": {},
     "output_type": "execute_result"
    }
   ],
   "source": [
    "valid = dataset[training_data_len:]\n",
    "valid = pd.DataFrame(valid)\n",
    "\n",
    "validdates = pd.DataFrame()\n",
    "validdates['Date'] = pd.date_range('01/12/2021', periods = 365 , freq ='d')\n",
    "\n",
    "valid.columns=['Actual_Close']\n",
    "valid = pd.concat([validdates,valid],axis=1)\n",
    "#valid.set_index(valid[\"Date\"], inplace=True)\n",
    "#valid=valid.drop(['Date'], axis=1)\n",
    "valid"
   ]
  },
  {
   "cell_type": "code",
   "execution_count": 144,
   "metadata": {},
   "outputs": [
    {
     "data": {
      "text/html": [
       "<div>\n",
       "<style scoped>\n",
       "    .dataframe tbody tr th:only-of-type {\n",
       "        vertical-align: middle;\n",
       "    }\n",
       "\n",
       "    .dataframe tbody tr th {\n",
       "        vertical-align: top;\n",
       "    }\n",
       "\n",
       "    .dataframe thead th {\n",
       "        text-align: right;\n",
       "    }\n",
       "</style>\n",
       "<table border=\"1\" class=\"dataframe\">\n",
       "  <thead>\n",
       "    <tr style=\"text-align: right;\">\n",
       "      <th></th>\n",
       "      <th>Date</th>\n",
       "      <th>Predicted_Close</th>\n",
       "    </tr>\n",
       "  </thead>\n",
       "  <tbody>\n",
       "    <tr>\n",
       "      <th>0</th>\n",
       "      <td>2021-03-13</td>\n",
       "      <td>19.875731</td>\n",
       "    </tr>\n",
       "    <tr>\n",
       "      <th>1</th>\n",
       "      <td>2021-03-14</td>\n",
       "      <td>19.398973</td>\n",
       "    </tr>\n",
       "    <tr>\n",
       "      <th>2</th>\n",
       "      <td>2021-03-15</td>\n",
       "      <td>20.329660</td>\n",
       "    </tr>\n",
       "    <tr>\n",
       "      <th>3</th>\n",
       "      <td>2021-03-16</td>\n",
       "      <td>20.314259</td>\n",
       "    </tr>\n",
       "    <tr>\n",
       "      <th>4</th>\n",
       "      <td>2021-03-17</td>\n",
       "      <td>20.309324</td>\n",
       "    </tr>\n",
       "    <tr>\n",
       "      <th>...</th>\n",
       "      <td>...</td>\n",
       "      <td>...</td>\n",
       "    </tr>\n",
       "    <tr>\n",
       "      <th>300</th>\n",
       "      <td>2022-01-07</td>\n",
       "      <td>18.367649</td>\n",
       "    </tr>\n",
       "    <tr>\n",
       "      <th>301</th>\n",
       "      <td>2022-01-08</td>\n",
       "      <td>18.015123</td>\n",
       "    </tr>\n",
       "    <tr>\n",
       "      <th>302</th>\n",
       "      <td>2022-01-09</td>\n",
       "      <td>17.510424</td>\n",
       "    </tr>\n",
       "    <tr>\n",
       "      <th>303</th>\n",
       "      <td>2022-01-10</td>\n",
       "      <td>18.653351</td>\n",
       "    </tr>\n",
       "    <tr>\n",
       "      <th>304</th>\n",
       "      <td>2022-01-11</td>\n",
       "      <td>NaN</td>\n",
       "    </tr>\n",
       "  </tbody>\n",
       "</table>\n",
       "<p>305 rows × 2 columns</p>\n",
       "</div>"
      ],
      "text/plain": [
       "          Date  Predicted_Close\n",
       "0   2021-03-13        19.875731\n",
       "1   2021-03-14        19.398973\n",
       "2   2021-03-15        20.329660\n",
       "3   2021-03-16        20.314259\n",
       "4   2021-03-17        20.309324\n",
       "..         ...              ...\n",
       "300 2022-01-07        18.367649\n",
       "301 2022-01-08        18.015123\n",
       "302 2022-01-09        17.510424\n",
       "303 2022-01-10        18.653351\n",
       "304 2022-01-11              NaN\n",
       "\n",
       "[305 rows x 2 columns]"
      ]
     },
     "execution_count": 144,
     "metadata": {},
     "output_type": "execute_result"
    }
   ],
   "source": [
    "predictions=pd.DataFrame(predictions)\n",
    "\n",
    "predictionsdates=pd.DataFrame()\n",
    "predictionsdates['Date']=pd.date_range('03/13/2021', periods=305 ,freq='d')\n",
    "\n",
    "predictions.columns=['Predicted_Close']\n",
    "predictions=pd.concat([predictionsdates,predictions],axis=1)\n",
    "#predictions.set_index(predictions[\"Date\"], inplace=True)\n",
    "#predictions=predictions.drop(['Date'], axis=1)\n",
    "predictions"
   ]
  },
  {
   "cell_type": "code",
   "execution_count": 145,
   "metadata": {},
   "outputs": [],
   "source": [
    "#pastandforecast = pd.concat([valid,predictions],axis=0)\n",
    "#pastandforecast"
   ]
  },
  {
   "cell_type": "code",
   "execution_count": 146,
   "metadata": {},
   "outputs": [
    {
     "data": {
      "text/html": [
       "<div>\n",
       "<style scoped>\n",
       "    .dataframe tbody tr th:only-of-type {\n",
       "        vertical-align: middle;\n",
       "    }\n",
       "\n",
       "    .dataframe tbody tr th {\n",
       "        vertical-align: top;\n",
       "    }\n",
       "\n",
       "    .dataframe thead th {\n",
       "        text-align: right;\n",
       "    }\n",
       "</style>\n",
       "<table border=\"1\" class=\"dataframe\">\n",
       "  <thead>\n",
       "    <tr style=\"text-align: right;\">\n",
       "      <th></th>\n",
       "      <th>Date</th>\n",
       "      <th>Actual_Close</th>\n",
       "      <th>Predicted_Close</th>\n",
       "    </tr>\n",
       "  </thead>\n",
       "  <tbody>\n",
       "    <tr>\n",
       "      <th>0</th>\n",
       "      <td>2021-03-13</td>\n",
       "      <td>19.230000</td>\n",
       "      <td>19.875731</td>\n",
       "    </tr>\n",
       "    <tr>\n",
       "      <th>1</th>\n",
       "      <td>2021-03-14</td>\n",
       "      <td>21.580000</td>\n",
       "      <td>19.398973</td>\n",
       "    </tr>\n",
       "    <tr>\n",
       "      <th>2</th>\n",
       "      <td>2021-03-15</td>\n",
       "      <td>20.950001</td>\n",
       "      <td>20.329660</td>\n",
       "    </tr>\n",
       "    <tr>\n",
       "      <th>3</th>\n",
       "      <td>2021-03-16</td>\n",
       "      <td>20.950001</td>\n",
       "      <td>20.314259</td>\n",
       "    </tr>\n",
       "    <tr>\n",
       "      <th>4</th>\n",
       "      <td>2021-03-17</td>\n",
       "      <td>20.950001</td>\n",
       "      <td>20.309324</td>\n",
       "    </tr>\n",
       "    <tr>\n",
       "      <th>...</th>\n",
       "      <td>...</td>\n",
       "      <td>...</td>\n",
       "      <td>...</td>\n",
       "    </tr>\n",
       "    <tr>\n",
       "      <th>300</th>\n",
       "      <td>2022-01-07</td>\n",
       "      <td>18.410000</td>\n",
       "      <td>18.367649</td>\n",
       "    </tr>\n",
       "    <tr>\n",
       "      <th>301</th>\n",
       "      <td>2022-01-08</td>\n",
       "      <td>17.620001</td>\n",
       "      <td>18.015123</td>\n",
       "    </tr>\n",
       "    <tr>\n",
       "      <th>302</th>\n",
       "      <td>2022-01-09</td>\n",
       "      <td>20.309999</td>\n",
       "      <td>17.510424</td>\n",
       "    </tr>\n",
       "    <tr>\n",
       "      <th>303</th>\n",
       "      <td>2022-01-10</td>\n",
       "      <td>21.250000</td>\n",
       "      <td>18.653351</td>\n",
       "    </tr>\n",
       "    <tr>\n",
       "      <th>304</th>\n",
       "      <td>2022-01-11</td>\n",
       "      <td>NaN</td>\n",
       "      <td>NaN</td>\n",
       "    </tr>\n",
       "  </tbody>\n",
       "</table>\n",
       "<p>305 rows × 3 columns</p>\n",
       "</div>"
      ],
      "text/plain": [
       "          Date  Actual_Close  Predicted_Close\n",
       "0   2021-03-13     19.230000        19.875731\n",
       "1   2021-03-14     21.580000        19.398973\n",
       "2   2021-03-15     20.950001        20.329660\n",
       "3   2021-03-16     20.950001        20.314259\n",
       "4   2021-03-17     20.950001        20.309324\n",
       "..         ...           ...              ...\n",
       "300 2022-01-07     18.410000        18.367649\n",
       "301 2022-01-08     17.620001        18.015123\n",
       "302 2022-01-09     20.309999        17.510424\n",
       "303 2022-01-10     21.250000        18.653351\n",
       "304 2022-01-11           NaN              NaN\n",
       "\n",
       "[305 rows x 3 columns]"
      ]
     },
     "execution_count": 146,
     "metadata": {},
     "output_type": "execute_result"
    }
   ],
   "source": [
    "newdf = valid.merge(predictions,right_index=False)\n",
    "newdf"
   ]
  },
  {
   "cell_type": "code",
   "execution_count": 147,
   "metadata": {},
   "outputs": [],
   "source": [
    "newdf.set_index(newdf[\"Date\"], inplace=True)\n",
    "newdf=newdf.drop(['Date'], axis=1)"
   ]
  },
  {
   "cell_type": "code",
   "execution_count": 148,
   "metadata": {},
   "outputs": [
    {
     "data": {
      "text/plain": [
       "<function matplotlib.pyplot.show(close=None, block=None)>"
      ]
     },
     "execution_count": 148,
     "metadata": {},
     "output_type": "execute_result"
    },
    {
     "data": {
      "image/png": "[encoded data removed]",
      "text/plain": [
       "<Figure size 1152x576 with 1 Axes>"
      ]
     },
     "metadata": {},
     "output_type": "display_data"
    }
   ],
   "source": [
    "\n",
    "\n",
    "#visualize\n",
    "plt.figure(figsize=(16,8))\n",
    "plt.title('Model')\n",
    "plt.xlabel ('Date', fontsize = 18)\n",
    "plt.ylabel ('Close Price USD ($)' , fontsize = 18)\n",
    "\n",
    "plt.plot(newdf['Actual_Close'],label='HISTORICAL')\n",
    "plt.plot(newdf['Predicted_Close'],label='TEST')\n",
    "plt.plot(origdata['Close'],alpha=0.1)\n",
    "\n",
    "plt.legend()\n",
    "\n",
    "\n",
    "\n",
    "plt.show\n"
   ]
  },
  {
   "cell_type": "code",
   "execution_count": 149,
   "metadata": {},
   "outputs": [
    {
     "data": {
      "text/plain": [
       "[<matplotlib.lines.Line2D at 0x2a69a978fd0>]"
      ]
     },
     "execution_count": 149,
     "metadata": {},
     "output_type": "execute_result"
    },
    {
     "data": {
      "image/png": "[encoded data removed]",
      "text/plain": [
       "<Figure size 720x432 with 1 Axes>"
      ]
     },
     "metadata": {},
     "output_type": "display_data"
    }
   ],
   "source": [
    "plt.plot(origdata['Close'],alpha=0.5)"
   ]
  },
  {
   "cell_type": "markdown",
   "metadata": {},
   "source": [
    "# FUTURE FORECAST"
   ]
  },
  {
   "cell_type": "code",
   "execution_count": 150,
   "metadata": {},
   "outputs": [],
   "source": [
    "last_60_days = alldata[-60:].values"
   ]
  },
  {
   "cell_type": "code",
   "execution_count": 151,
   "metadata": {},
   "outputs": [
    {
     "data": {
      "text/plain": [
       "array([[16.37000084],\n",
       "       [17.11000061],\n",
       "       [17.59000015],\n",
       "       [17.90999985],\n",
       "       [17.90999985],\n",
       "       [17.90999985],\n",
       "       [19.17000008],\n",
       "       [19.37999916],\n",
       "       [18.57999992],\n",
       "       [18.57999992],\n",
       "       [28.62000084],\n",
       "       [28.62000084],\n",
       "       [28.62000084],\n",
       "       [22.95999908],\n",
       "       [27.19000053],\n",
       "       [31.12000084],\n",
       "       [27.95000076],\n",
       "       [30.67000008],\n",
       "       [30.67000008],\n",
       "       [30.67000008],\n",
       "       [27.18000031],\n",
       "       [21.88999939],\n",
       "       [19.89999962],\n",
       "       [21.57999992],\n",
       "       [18.69000053],\n",
       "       [18.69000053],\n",
       "       [18.69000053],\n",
       "       [20.30999947],\n",
       "       [21.88999939],\n",
       "       [19.29000092],\n",
       "       [20.56999969],\n",
       "       [21.56999969],\n",
       "       [21.56999969],\n",
       "       [21.56999969],\n",
       "       [22.87000084],\n",
       "       [21.01000023],\n",
       "       [18.62999916],\n",
       "       [17.95999908],\n",
       "       [17.95999908],\n",
       "       [17.95999908],\n",
       "       [17.95999908],\n",
       "       [17.68000031],\n",
       "       [17.54000092],\n",
       "       [16.95000076],\n",
       "       [17.32999992],\n",
       "       [17.21999931],\n",
       "       [17.21999931],\n",
       "       [17.21999931],\n",
       "       [16.60000038],\n",
       "       [16.90999985],\n",
       "       [19.72999954],\n",
       "       [19.61000061],\n",
       "       [18.76000023],\n",
       "       [18.76000023],\n",
       "       [18.76000023],\n",
       "       [19.39999962],\n",
       "       [18.40999985],\n",
       "       [17.62000084],\n",
       "       [20.30999947],\n",
       "       [21.25      ]])"
      ]
     },
     "execution_count": 151,
     "metadata": {},
     "output_type": "execute_result"
    }
   ],
   "source": [
    "last_60_days"
   ]
  },
  {
   "cell_type": "code",
   "execution_count": 152,
   "metadata": {},
   "outputs": [],
   "source": [
    "#scale the data to be values between 0 and 1\n",
    "last_60_days_scaled = scaler.transform(last_60_days)\n",
    "\n",
    "#create an empty list\n",
    "X_test = []"
   ]
  },
  {
   "cell_type": "code",
   "execution_count": 153,
   "metadata": {},
   "outputs": [],
   "source": [
    "#append the past 60 days\n",
    "X_test.append(last_60_days_scaled)\n",
    "\n",
    "#convert the X_test data set to a numpy array\n",
    "X_test = np.array(X_test)\n",
    "\n",
    "#reshape the data\n",
    "X_test = np.reshape(X_test,(X_test.shape[0], X_test.shape[1],1))\n"
   ]
  },
  {
   "cell_type": "code",
   "execution_count": 154,
   "metadata": {},
   "outputs": [
    {
     "data": {
      "text/plain": [
       "(1, 60, 1)"
      ]
     },
     "execution_count": 154,
     "metadata": {},
     "output_type": "execute_result"
    }
   ],
   "source": [
    "X_test.shape"
   ]
  },
  {
   "cell_type": "code",
   "execution_count": 155,
   "metadata": {},
   "outputs": [
    {
     "data": {
      "text/plain": [
       "array([[0.14126976]], dtype=float32)"
      ]
     },
     "execution_count": 155,
     "metadata": {},
     "output_type": "execute_result"
    }
   ],
   "source": [
    "pred_price = model.predict (X_test)\n",
    "pred_price"
   ]
  },
  {
   "cell_type": "code",
   "execution_count": 156,
   "metadata": {},
   "outputs": [
    {
     "name": "stdout",
     "output_type": "stream",
     "text": [
      "[[19.530392]]\n"
     ]
    }
   ],
   "source": [
    "#undo the scaling & predict for 08th March 2021\n",
    "pred_price = scaler.inverse_transform(pred_price)\n",
    "print(pred_price)"
   ]
  },
  {
   "cell_type": "code",
   "execution_count": 157,
   "metadata": {},
   "outputs": [
    {
     "data": {
      "text/html": [
       "<div>\n",
       "<style scoped>\n",
       "    .dataframe tbody tr th:only-of-type {\n",
       "        vertical-align: middle;\n",
       "    }\n",
       "\n",
       "    .dataframe tbody tr th {\n",
       "        vertical-align: top;\n",
       "    }\n",
       "\n",
       "    .dataframe thead th {\n",
       "        text-align: right;\n",
       "    }\n",
       "</style>\n",
       "<table border=\"1\" class=\"dataframe\">\n",
       "  <thead>\n",
       "    <tr style=\"text-align: right;\">\n",
       "      <th></th>\n",
       "      <th>0</th>\n",
       "    </tr>\n",
       "  </thead>\n",
       "  <tbody>\n",
       "    <tr>\n",
       "      <th>0</th>\n",
       "      <td>19.530392</td>\n",
       "    </tr>\n",
       "  </tbody>\n",
       "</table>\n",
       "</div>"
      ],
      "text/plain": [
       "           0\n",
       "0  19.530392"
      ]
     },
     "execution_count": 157,
     "metadata": {},
     "output_type": "execute_result"
    }
   ],
   "source": [
    "pred_price=pd.DataFrame(pred_price)\n",
    "pred_price"
   ]
  },
  {
   "cell_type": "code",
   "execution_count": 158,
   "metadata": {},
   "outputs": [
    {
     "data": {
      "text/html": [
       "<div>\n",
       "<style scoped>\n",
       "    .dataframe tbody tr th:only-of-type {\n",
       "        vertical-align: middle;\n",
       "    }\n",
       "\n",
       "    .dataframe tbody tr th {\n",
       "        vertical-align: top;\n",
       "    }\n",
       "\n",
       "    .dataframe thead th {\n",
       "        text-align: right;\n",
       "    }\n",
       "</style>\n",
       "<table border=\"1\" class=\"dataframe\">\n",
       "  <thead>\n",
       "    <tr style=\"text-align: right;\">\n",
       "      <th></th>\n",
       "      <th>Date</th>\n",
       "    </tr>\n",
       "  </thead>\n",
       "  <tbody>\n",
       "    <tr>\n",
       "      <th>0</th>\n",
       "      <td>2022-01-14 19:29:06.558317</td>\n",
       "    </tr>\n",
       "  </tbody>\n",
       "</table>\n",
       "</div>"
      ],
      "text/plain": [
       "                        Date\n",
       "0 2022-01-14 19:29:06.558317"
      ]
     },
     "execution_count": 158,
     "metadata": {},
     "output_type": "execute_result"
    }
   ],
   "source": [
    "date = pd.DataFrame()\n",
    "date['Date'] = pd.date_range('today', periods = 1, freq ='d')\n",
    "date"
   ]
  },
  {
   "cell_type": "code",
   "execution_count": 159,
   "metadata": {},
   "outputs": [
    {
     "data": {
      "text/html": [
       "<div>\n",
       "<style scoped>\n",
       "    .dataframe tbody tr th:only-of-type {\n",
       "        vertical-align: middle;\n",
       "    }\n",
       "\n",
       "    .dataframe tbody tr th {\n",
       "        vertical-align: top;\n",
       "    }\n",
       "\n",
       "    .dataframe thead th {\n",
       "        text-align: right;\n",
       "    }\n",
       "</style>\n",
       "<table border=\"1\" class=\"dataframe\">\n",
       "  <thead>\n",
       "    <tr style=\"text-align: right;\">\n",
       "      <th></th>\n",
       "      <th>Date</th>\n",
       "      <th>0</th>\n",
       "    </tr>\n",
       "  </thead>\n",
       "  <tbody>\n",
       "    <tr>\n",
       "      <th>0</th>\n",
       "      <td>2022-01-14 19:29:06.558317</td>\n",
       "      <td>19.530392</td>\n",
       "    </tr>\n",
       "  </tbody>\n",
       "</table>\n",
       "</div>"
      ],
      "text/plain": [
       "                        Date          0\n",
       "0 2022-01-14 19:29:06.558317  19.530392"
      ]
     },
     "execution_count": 159,
     "metadata": {},
     "output_type": "execute_result"
    }
   ],
   "source": [
    "forecast = pd.concat([date,pred_price],axis=1)\n",
    "forecast"
   ]
  },
  {
   "cell_type": "code",
   "execution_count": 160,
   "metadata": {},
   "outputs": [
    {
     "data": {
      "text/html": [
       "<div>\n",
       "<style scoped>\n",
       "    .dataframe tbody tr th:only-of-type {\n",
       "        vertical-align: middle;\n",
       "    }\n",
       "\n",
       "    .dataframe tbody tr th {\n",
       "        vertical-align: top;\n",
       "    }\n",
       "\n",
       "    .dataframe thead th {\n",
       "        text-align: right;\n",
       "    }\n",
       "</style>\n",
       "<table border=\"1\" class=\"dataframe\">\n",
       "  <thead>\n",
       "    <tr style=\"text-align: right;\">\n",
       "      <th></th>\n",
       "      <th>0</th>\n",
       "    </tr>\n",
       "    <tr>\n",
       "      <th>Date</th>\n",
       "      <th></th>\n",
       "    </tr>\n",
       "  </thead>\n",
       "  <tbody>\n",
       "    <tr>\n",
       "      <th>2022-01-14 19:29:06.558317</th>\n",
       "      <td>19.530392</td>\n",
       "    </tr>\n",
       "  </tbody>\n",
       "</table>\n",
       "</div>"
      ],
      "text/plain": [
       "                                    0\n",
       "Date                                 \n",
       "2022-01-14 19:29:06.558317  19.530392"
      ]
     },
     "execution_count": 160,
     "metadata": {},
     "output_type": "execute_result"
    }
   ],
   "source": [
    "forecast.set_index(forecast[\"Date\"], inplace=True)\n",
    "forecast=forecast.drop(['Date'], axis=1)\n",
    "forecast"
   ]
  },
  {
   "cell_type": "code",
   "execution_count": 161,
   "metadata": {},
   "outputs": [
    {
     "data": {
      "text/html": [
       "<div>\n",
       "<style scoped>\n",
       "    .dataframe tbody tr th:only-of-type {\n",
       "        vertical-align: middle;\n",
       "    }\n",
       "\n",
       "    .dataframe tbody tr th {\n",
       "        vertical-align: top;\n",
       "    }\n",
       "\n",
       "    .dataframe thead th {\n",
       "        text-align: right;\n",
       "    }\n",
       "</style>\n",
       "<table border=\"1\" class=\"dataframe\">\n",
       "  <thead>\n",
       "    <tr style=\"text-align: right;\">\n",
       "      <th></th>\n",
       "      <th>Forecasted_Close</th>\n",
       "    </tr>\n",
       "    <tr>\n",
       "      <th>Date</th>\n",
       "      <th></th>\n",
       "    </tr>\n",
       "  </thead>\n",
       "  <tbody>\n",
       "    <tr>\n",
       "      <th>2022-01-14 19:29:06.558317</th>\n",
       "      <td>19.530392</td>\n",
       "    </tr>\n",
       "  </tbody>\n",
       "</table>\n",
       "</div>"
      ],
      "text/plain": [
       "                            Forecasted_Close\n",
       "Date                                        \n",
       "2022-01-14 19:29:06.558317         19.530392"
      ]
     },
     "execution_count": 161,
     "metadata": {},
     "output_type": "execute_result"
    }
   ],
   "source": [
    "forecast.columns=['Forecasted_Close']\n",
    "forecast"
   ]
  },
  {
   "cell_type": "code",
   "execution_count": 162,
   "metadata": {},
   "outputs": [
    {
     "data": {
      "text/plain": [
       "<matplotlib.collections.PathCollection at 0x2a69a9c9700>"
      ]
     },
     "execution_count": 162,
     "metadata": {},
     "output_type": "execute_result"
    },
    {
     "data": {
      "image/png": "[encoded data removed]",
      "text/plain": [
       "<Figure size 720x432 with 1 Axes>"
      ]
     },
     "metadata": {},
     "output_type": "display_data"
    }
   ],
   "source": [
    "plt.scatter(date,forecast['Forecasted_Close'])"
   ]
  },
  {
   "cell_type": "code",
   "execution_count": 163,
   "metadata": {},
   "outputs": [
    {
     "data": {
      "text/plain": [
       "<matplotlib.collections.PathCollection at 0x2a696378580>"
      ]
     },
     "execution_count": 163,
     "metadata": {},
     "output_type": "execute_result"
    },
    {
     "data": {
      "image/png": "[encoded data removed]",
      "text/plain": [
       "<Figure size 720x432 with 1 Axes>"
      ]
     },
     "metadata": {},
     "output_type": "display_data"
    }
   ],
   "source": [
    "plt.scatter(date, forecast)"
   ]
  },
  {
   "cell_type": "code",
   "execution_count": 164,
   "metadata": {},
   "outputs": [
    {
     "data": {
      "text/plain": [
       "<function matplotlib.pyplot.show(close=None, block=None)>"
      ]
     },
     "execution_count": 164,
     "metadata": {},
     "output_type": "execute_result"
    },
    {
     "data": {
      "image/png": "[encoded data removed]",
      "text/plain": [
       "<Figure size 1152x576 with 1 Axes>"
      ]
     },
     "metadata": {},
     "output_type": "display_data"
    }
   ],
   "source": [
    "plt.figure(figsize=(16,8))\n",
    "plt.title('Model')\n",
    "plt.xlabel ('Date', fontsize = 18)\n",
    "plt.ylabel ('Close Price USD ($)' , fontsize = 18)\n",
    "\n",
    "#plt.plot(newdf['Actual_Close'],label='HISTORICAL')\n",
    "plt.plot(newdf['Predicted_Close'],color='black', alpha=0.1, label='TEST')\n",
    "#plt.plot(origdata['Close'],alpha=0.1)\n",
    "\n",
    "#plt.plot(forecast['Forecasted_Close'], color='black', alpha=100, label='x')\n",
    "\n",
    "#plt.scatter(date, forecast)\n",
    "#plt.plot(forecast['Forecasted_Close'],color='black', alpha=100, label='x')\n",
    "plt.scatter(date,forecast['Forecasted_Close'])\n",
    "plt.legend()\n",
    "\n",
    "plt.show"
   ]
  }
 ],
 "metadata": {
  "kernelspec": {
   "display_name": "Python 3",
   "language": "python",
   "name": "python3"
  },
  "language_info": {
   "codemirror_mode": {
    "name": "ipython",
    "version": 3
   },
   "file_extension": ".py",
   "mimetype": "text/x-python",
   "name": "python",
   "nbconvert_exporter": "python",
   "pygments_lexer": "ipython3",
   "version": "3.8.5"
  }
 },
 "nbformat": 4,
 "nbformat_minor": 4
}
